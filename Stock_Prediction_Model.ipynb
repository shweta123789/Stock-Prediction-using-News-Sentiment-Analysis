{
 "cells": [
  {
   "cell_type": "code",
   "execution_count": 2,
   "id": "ca891c1e",
   "metadata": {},
   "outputs": [
    {
     "data": {
      "application/vnd.jupyter.widget-view+json": {
       "model_id": "8d2a37ba1dac4f498496e0e3fb7d1d5a",
       "version_major": 2,
       "version_minor": 0
      },
      "text/plain": [
       "VBox(children=(FloatText(value=0.0, description='Feature 1'), FloatText(value=0.0, description='Feature 2'), F…"
      ]
     },
     "execution_count": 2,
     "metadata": {},
     "output_type": "execute_result"
    },
    {
     "name": "stdout",
     "output_type": "stream",
     "text": [
      "Prediction: 1\n"
     ]
    },
    {
     "name": "stderr",
     "output_type": "stream",
     "text": [
      "C:\\Users\\shwet\\AppData\\Local\\Programs\\Python\\Python310\\lib\\site-packages\\sklearn\\base.py:493: UserWarning: X does not have valid feature names, but LogisticRegression was fitted with feature names\n",
      "  warnings.warn(\n"
     ]
    }
   ],
   "source": [
    "import joblib\n",
    "import numpy as np\n",
    "from ipywidgets import widgets, VBox\n",
    "\n",
    "# Load the model\n",
    "model = joblib.load(\"logistic_regression_model.pkl\")\n",
    "\n",
    "# Create widgets for user input\n",
    "feature_1 = widgets.FloatText(description='Feature 1')\n",
    "feature_2 = widgets.FloatText(description='Feature 2')\n",
    "feature_3 = widgets.FloatText(description='Feature 3')\n",
    "predict_button = widgets.Button(description='Predict')\n",
    "\n",
    "# Prediction function\n",
    "def on_predict_click(b):\n",
    "    features = np.array([[feature_1.value, feature_2.value, feature_3.value]])\n",
    "    prediction = model.predict(features)\n",
    "    print(f\"Prediction: {prediction[0]}\")\n",
    "\n",
    "predict_button.on_click(on_predict_click)\n",
    "\n",
    "# Display widgets\n",
    "VBox([feature_1, feature_2, feature_3, predict_button])\n"
   ]
  },
  {
   "cell_type": "code",
   "execution_count": null,
   "id": "c54987b5",
   "metadata": {},
   "outputs": [],
   "source": []
  },
  {
   "cell_type": "code",
   "execution_count": null,
   "id": "4d3e4853",
   "metadata": {},
   "outputs": [],
   "source": []
  },
  {
   "cell_type": "code",
   "execution_count": null,
   "id": "bcd5bd59",
   "metadata": {},
   "outputs": [],
   "source": []
  },
  {
   "cell_type": "code",
   "execution_count": null,
   "id": "1fdc85c9",
   "metadata": {},
   "outputs": [],
   "source": []
  },
  {
   "cell_type": "code",
   "execution_count": null,
   "id": "2d0a8480",
   "metadata": {},
   "outputs": [],
   "source": []
  },
  {
   "cell_type": "code",
   "execution_count": null,
   "id": "c18d5ddc",
   "metadata": {},
   "outputs": [],
   "source": []
  },
  {
   "cell_type": "code",
   "execution_count": null,
   "id": "3eeeea47",
   "metadata": {},
   "outputs": [],
   "source": []
  },
  {
   "cell_type": "code",
   "execution_count": null,
   "id": "bf43c0cd",
   "metadata": {},
   "outputs": [],
   "source": []
  },
  {
   "cell_type": "code",
   "execution_count": null,
   "id": "39e52089",
   "metadata": {},
   "outputs": [],
   "source": []
  },
  {
   "cell_type": "code",
   "execution_count": null,
   "id": "2623ee33",
   "metadata": {},
   "outputs": [],
   "source": []
  }
 ],
 "metadata": {
  "kernelspec": {
   "display_name": "Python 3 (ipykernel)",
   "language": "python",
   "name": "python3"
  },
  "language_info": {
   "codemirror_mode": {
    "name": "ipython",
    "version": 3
   },
   "file_extension": ".py",
   "mimetype": "text/x-python",
   "name": "python",
   "nbconvert_exporter": "python",
   "pygments_lexer": "ipython3",
   "version": "3.10.6"
  }
 },
 "nbformat": 4,
 "nbformat_minor": 5
}
