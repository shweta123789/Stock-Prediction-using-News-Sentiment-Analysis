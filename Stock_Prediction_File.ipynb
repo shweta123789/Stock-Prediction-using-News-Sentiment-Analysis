{
 "cells": [
  {
   "cell_type": "code",
   "execution_count": 180,
   "id": "86de95db",
   "metadata": {},
   "outputs": [],
   "source": [
    "import praw\n",
    "import pandas as pd\n",
    "import re\n",
    "from nltk.tokenize import word_tokenize\n",
    "import nltk\n",
    "from nltk.corpus import stopwords\n",
    "from nltk.stem import WordNetLemmatizer\n",
    "from nltk.stem.porter import PorterStemmer\n",
    "from nltk.sentiment.vader import SentimentIntensityAnalyzer\n",
    "from textblob import TextBlob\n",
    "import seaborn as sns\n",
    "import matplotlib.pyplot as plt\n",
    "from sklearn.linear_model import LogisticRegression\n",
    "from sklearn.metrics import confusion_matrix\n",
    "from sklearn.preprocessing import MinMaxScaler\n",
    "from sklearn.model_selection import train_test_split\n",
    "from sklearn.ensemble import IsolationForest\n",
    "from imblearn.over_sampling import SMOTE\n",
    "from sklearn.model_selection import GridSearchCV\n",
    "from sklearn.metrics import ConfusionMatrixDisplay\n",
    "from sklearn.metrics import classification_report, accuracy_score\n"
   ]
  },
  {
   "cell_type": "code",
   "execution_count": 113,
   "id": "69664e44",
   "metadata": {},
   "outputs": [
    {
     "name": "stdout",
     "output_type": "stream",
     "text": [
      "Data has been saved to reddit_data.csv\n"
     ]
    }
   ],
   "source": [
    "reddit = praw.Reddit(\n",
    "    client_id='J6MtxI2aORRn-IQnBT3GIw',        \n",
    "    client_secret='E2hmYe7VM0MZqAOBAg4KojcZg21LSQ',  \n",
    "    user_agent='StockScraper:v1.0 by /u/shweta'      \n",
    ")\n",
    "\n",
    "\n",
    "subreddit_name = \"stocks\" \n",
    "subreddit = reddit.subreddit(subreddit_name)\n",
    "\n",
    "# Scrape posts\n",
    "posts = []\n",
    "for post in subreddit.new(limit=100): \n",
    "    posts.append({\n",
    "        \"title\": post.title,\n",
    "        \"score\": post.score,\n",
    "        \"comments\": post.num_comments,\n",
    "        \"url\": post.url,\n",
    "        \"created\": post.created_utc,\n",
    "        \"text\": post.selftext\n",
    "    })\n",
    "\n",
    "\n",
    "posts_df = pd.DataFrame(posts)\n",
    "\n",
    "\n",
    "csv_file = \"reddit_data.csv\"\n",
    "posts_df.to_csv(csv_file, index=False)\n",
    "print(f\"Data has been saved to {csv_file}\")\n"
   ]
  },
  {
   "cell_type": "code",
   "execution_count": 114,
   "id": "2471a58a",
   "metadata": {},
   "outputs": [],
   "source": [
    "data = pd.read_csv(\"reddit_data.csv\")"
   ]
  },
  {
   "cell_type": "code",
   "execution_count": 115,
   "id": "4b0fab50",
   "metadata": {},
   "outputs": [
    {
     "data": {
      "text/html": [
       "<div>\n",
       "<style scoped>\n",
       "    .dataframe tbody tr th:only-of-type {\n",
       "        vertical-align: middle;\n",
       "    }\n",
       "\n",
       "    .dataframe tbody tr th {\n",
       "        vertical-align: top;\n",
       "    }\n",
       "\n",
       "    .dataframe thead th {\n",
       "        text-align: right;\n",
       "    }\n",
       "</style>\n",
       "<table border=\"1\" class=\"dataframe\">\n",
       "  <thead>\n",
       "    <tr style=\"text-align: right;\">\n",
       "      <th></th>\n",
       "      <th>title</th>\n",
       "      <th>score</th>\n",
       "      <th>comments</th>\n",
       "      <th>url</th>\n",
       "      <th>created</th>\n",
       "      <th>text</th>\n",
       "    </tr>\n",
       "  </thead>\n",
       "  <tbody>\n",
       "    <tr>\n",
       "      <th>0</th>\n",
       "      <td>What is fueling Duolingo's (DUOL) price?</td>\n",
       "      <td>1</td>\n",
       "      <td>0</td>\n",
       "      <td>https://www.reddit.com/r/stocks/comments/1h6in...</td>\n",
       "      <td>1.733326e+09</td>\n",
       "      <td>Duolingo is trading at ~200 PE for a market ca...</td>\n",
       "    </tr>\n",
       "    <tr>\n",
       "      <th>1</th>\n",
       "      <td>Do you guys believe we are in the beginning of...</td>\n",
       "      <td>12</td>\n",
       "      <td>67</td>\n",
       "      <td>https://www.reddit.com/r/stocks/comments/1h6hq...</td>\n",
       "      <td>1.733324e+09</td>\n",
       "      <td>While there are some signs pointing to a reces...</td>\n",
       "    </tr>\n",
       "    <tr>\n",
       "      <th>2</th>\n",
       "      <td>UnitedHealthcare CEO fatally shot</td>\n",
       "      <td>242</td>\n",
       "      <td>179</td>\n",
       "      <td>https://www.reddit.com/r/stocks/comments/1h6h6...</td>\n",
       "      <td>1.733322e+09</td>\n",
       "      <td>“The CEO of UnitedHealthcare, Brian Thompson, ...</td>\n",
       "    </tr>\n",
       "    <tr>\n",
       "      <th>3</th>\n",
       "      <td>These are the stocks on my watchlist (12/4)</td>\n",
       "      <td>6</td>\n",
       "      <td>1</td>\n",
       "      <td>https://www.reddit.com/r/stocks/comments/1h6h1...</td>\n",
       "      <td>1.733322e+09</td>\n",
       "      <td>Hi! I am an ex-prop shop equity trader.\\n\\nThi...</td>\n",
       "    </tr>\n",
       "    <tr>\n",
       "      <th>4</th>\n",
       "      <td>Amazon sued by DC attorney general for alleged...</td>\n",
       "      <td>66</td>\n",
       "      <td>41</td>\n",
       "      <td>https://www.reddit.com/r/stocks/comments/1h6gi...</td>\n",
       "      <td>1.733320e+09</td>\n",
       "      <td>Washington, D.C.’s attorney general sued Amazo...</td>\n",
       "    </tr>\n",
       "  </tbody>\n",
       "</table>\n",
       "</div>"
      ],
      "text/plain": [
       "                                               title  score  comments  \\\n",
       "0          What is fueling Duolingo's (DUOL) price?       1         0   \n",
       "1  Do you guys believe we are in the beginning of...     12        67   \n",
       "2                  UnitedHealthcare CEO fatally shot    242       179   \n",
       "3        These are the stocks on my watchlist (12/4)      6         1   \n",
       "4  Amazon sued by DC attorney general for alleged...     66        41   \n",
       "\n",
       "                                                 url       created  \\\n",
       "0  https://www.reddit.com/r/stocks/comments/1h6in...  1.733326e+09   \n",
       "1  https://www.reddit.com/r/stocks/comments/1h6hq...  1.733324e+09   \n",
       "2  https://www.reddit.com/r/stocks/comments/1h6h6...  1.733322e+09   \n",
       "3  https://www.reddit.com/r/stocks/comments/1h6h1...  1.733322e+09   \n",
       "4  https://www.reddit.com/r/stocks/comments/1h6gi...  1.733320e+09   \n",
       "\n",
       "                                                text  \n",
       "0  Duolingo is trading at ~200 PE for a market ca...  \n",
       "1  While there are some signs pointing to a reces...  \n",
       "2  “The CEO of UnitedHealthcare, Brian Thompson, ...  \n",
       "3  Hi! I am an ex-prop shop equity trader.\\n\\nThi...  \n",
       "4  Washington, D.C.’s attorney general sued Amazo...  "
      ]
     },
     "execution_count": 115,
     "metadata": {},
     "output_type": "execute_result"
    }
   ],
   "source": [
    "data.head(5)"
   ]
  },
  {
   "cell_type": "code",
   "execution_count": 116,
   "id": "ab7839a6",
   "metadata": {},
   "outputs": [
    {
     "name": "stdout",
     "output_type": "stream",
     "text": [
      "<class 'pandas.core.frame.DataFrame'>\n",
      "RangeIndex: 100 entries, 0 to 99\n",
      "Data columns (total 6 columns):\n",
      " #   Column    Non-Null Count  Dtype  \n",
      "---  ------    --------------  -----  \n",
      " 0   title     100 non-null    object \n",
      " 1   score     100 non-null    int64  \n",
      " 2   comments  100 non-null    int64  \n",
      " 3   url       100 non-null    object \n",
      " 4   created   100 non-null    float64\n",
      " 5   text      100 non-null    object \n",
      "dtypes: float64(1), int64(2), object(3)\n",
      "memory usage: 4.8+ KB\n"
     ]
    }
   ],
   "source": [
    "data.info()"
   ]
  },
  {
   "cell_type": "code",
   "execution_count": 117,
   "id": "df6551de",
   "metadata": {},
   "outputs": [
    {
     "data": {
      "text/plain": [
       "title       0\n",
       "score       0\n",
       "comments    0\n",
       "url         0\n",
       "created     0\n",
       "text        0\n",
       "dtype: int64"
      ]
     },
     "execution_count": 117,
     "metadata": {},
     "output_type": "execute_result"
    }
   ],
   "source": [
    "data.isnull().sum()"
   ]
  },
  {
   "cell_type": "code",
   "execution_count": 118,
   "id": "e5ae0958",
   "metadata": {},
   "outputs": [
    {
     "data": {
      "text/html": [
       "<div>\n",
       "<style scoped>\n",
       "    .dataframe tbody tr th:only-of-type {\n",
       "        vertical-align: middle;\n",
       "    }\n",
       "\n",
       "    .dataframe tbody tr th {\n",
       "        vertical-align: top;\n",
       "    }\n",
       "\n",
       "    .dataframe thead th {\n",
       "        text-align: right;\n",
       "    }\n",
       "</style>\n",
       "<table border=\"1\" class=\"dataframe\">\n",
       "  <thead>\n",
       "    <tr style=\"text-align: right;\">\n",
       "      <th></th>\n",
       "      <th>score</th>\n",
       "      <th>comments</th>\n",
       "      <th>created</th>\n",
       "    </tr>\n",
       "  </thead>\n",
       "  <tbody>\n",
       "    <tr>\n",
       "      <th>count</th>\n",
       "      <td>100.000000</td>\n",
       "      <td>100.000000</td>\n",
       "      <td>1.000000e+02</td>\n",
       "    </tr>\n",
       "    <tr>\n",
       "      <th>mean</th>\n",
       "      <td>171.310000</td>\n",
       "      <td>122.580000</td>\n",
       "      <td>1.732915e+09</td>\n",
       "    </tr>\n",
       "    <tr>\n",
       "      <th>std</th>\n",
       "      <td>570.534442</td>\n",
       "      <td>279.368378</td>\n",
       "      <td>2.769738e+05</td>\n",
       "    </tr>\n",
       "    <tr>\n",
       "      <th>min</th>\n",
       "      <td>0.000000</td>\n",
       "      <td>0.000000</td>\n",
       "      <td>1.732405e+09</td>\n",
       "    </tr>\n",
       "    <tr>\n",
       "      <th>25%</th>\n",
       "      <td>5.750000</td>\n",
       "      <td>17.000000</td>\n",
       "      <td>1.732662e+09</td>\n",
       "    </tr>\n",
       "    <tr>\n",
       "      <th>50%</th>\n",
       "      <td>26.000000</td>\n",
       "      <td>44.500000</td>\n",
       "      <td>1.732895e+09</td>\n",
       "    </tr>\n",
       "    <tr>\n",
       "      <th>75%</th>\n",
       "      <td>119.000000</td>\n",
       "      <td>127.250000</td>\n",
       "      <td>1.733171e+09</td>\n",
       "    </tr>\n",
       "    <tr>\n",
       "      <th>max</th>\n",
       "      <td>5311.000000</td>\n",
       "      <td>2571.000000</td>\n",
       "      <td>1.733326e+09</td>\n",
       "    </tr>\n",
       "  </tbody>\n",
       "</table>\n",
       "</div>"
      ],
      "text/plain": [
       "             score     comments       created\n",
       "count   100.000000   100.000000  1.000000e+02\n",
       "mean    171.310000   122.580000  1.732915e+09\n",
       "std     570.534442   279.368378  2.769738e+05\n",
       "min       0.000000     0.000000  1.732405e+09\n",
       "25%       5.750000    17.000000  1.732662e+09\n",
       "50%      26.000000    44.500000  1.732895e+09\n",
       "75%     119.000000   127.250000  1.733171e+09\n",
       "max    5311.000000  2571.000000  1.733326e+09"
      ]
     },
     "execution_count": 118,
     "metadata": {},
     "output_type": "execute_result"
    }
   ],
   "source": [
    "data.describe()"
   ]
  },
  {
   "cell_type": "code",
   "execution_count": 119,
   "id": "2245fd2a",
   "metadata": {},
   "outputs": [],
   "source": [
    "data[\"text\"] = data[\"text\"].str.lower()\n",
    "data[\"title\"] = data[\"title\"].str.lower()\n"
   ]
  },
  {
   "cell_type": "code",
   "execution_count": 121,
   "id": "2df835f0",
   "metadata": {},
   "outputs": [],
   "source": [
    "def clean_text(text):\n",
    "    return re.sub(r\"[^a-zA-Z\\s]\", \"\", text)\n",
    "\n",
    "data[\"title\"] = data[\"title\"].apply(clean_text)\n",
    "data[\"text\"] = data[\"text\"].apply(clean_text)\n"
   ]
  },
  {
   "cell_type": "code",
   "execution_count": 122,
   "id": "6e1a36c4",
   "metadata": {},
   "outputs": [
    {
     "name": "stderr",
     "output_type": "stream",
     "text": [
      "[nltk_data] Downloading package punkt to\n",
      "[nltk_data]     C:\\Users\\shwet\\AppData\\Roaming\\nltk_data...\n",
      "[nltk_data]   Package punkt is already up-to-date!\n"
     ]
    }
   ],
   "source": [
    "nltk.download(\"punkt\")\n",
    "\n",
    "data[\"title_tokens\"] = data[\"title\"].apply(word_tokenize)\n",
    "data[\"text_tokens\"] = data[\"text\"].apply(word_tokenize)\n"
   ]
  },
  {
   "cell_type": "code",
   "execution_count": 123,
   "id": "8b27b35e",
   "metadata": {},
   "outputs": [
    {
     "name": "stderr",
     "output_type": "stream",
     "text": [
      "[nltk_data] Downloading package stopwords to\n",
      "[nltk_data]     C:\\Users\\shwet\\AppData\\Roaming\\nltk_data...\n",
      "[nltk_data]   Package stopwords is already up-to-date!\n"
     ]
    }
   ],
   "source": [
    "nltk.download(\"stopwords\")\n",
    "\n",
    "stop_words = set(stopwords.words(\"english\"))\n",
    "\n",
    "data[\"title_tokens\"] = data[\"title_tokens\"].apply(\n",
    "    lambda tokens: [word for word in tokens if word not in stop_words]\n",
    ")\n",
    "data[\"text_tokens\"] = data[\"text_tokens\"].apply(\n",
    "    lambda tokens: [word for word in tokens if word not in stop_words]\n",
    ")\n"
   ]
  },
  {
   "cell_type": "code",
   "execution_count": 130,
   "id": "850aadfa",
   "metadata": {},
   "outputs": [],
   "source": [
    "stemmer = PorterStemmer()\n",
    "\n",
    "data[\"title_tokens\"] = data[\"title_tokens\"].apply(\n",
    "    lambda tokens: [stemmer.stem(word) for word in tokens]\n",
    ")\n",
    "data[\"text_tokens\"] = data[\"text_tokens\"].apply(\n",
    "    lambda tokens: [stemmer.stem(word) for word in tokens]\n",
    ")\n"
   ]
  },
  {
   "cell_type": "code",
   "execution_count": 131,
   "id": "d9172a8a",
   "metadata": {},
   "outputs": [
    {
     "name": "stderr",
     "output_type": "stream",
     "text": [
      "[nltk_data] Downloading package wordnet to\n",
      "[nltk_data]     C:\\Users\\shwet\\AppData\\Roaming\\nltk_data...\n",
      "[nltk_data]   Package wordnet is already up-to-date!\n"
     ]
    }
   ],
   "source": [
    "nltk.download(\"wordnet\")\n",
    "\n",
    "lemmatizer = WordNetLemmatizer()\n",
    "\n",
    "data[\"title_tokens\"] = data[\"title_tokens\"].apply(\n",
    "    lambda tokens: [lemmatizer.lemmatize(word) for word in tokens]\n",
    ")\n",
    "data[\"text_tokens\"] = data[\"text_tokens\"].apply(\n",
    "    lambda tokens: [lemmatizer.lemmatize(word) for word in tokens]\n",
    ")\n"
   ]
  },
  {
   "cell_type": "code",
   "execution_count": 132,
   "id": "85275475",
   "metadata": {},
   "outputs": [],
   "source": [
    "data[\"content\"] = data[\"title\"] + \" \" + data[\"text\"]"
   ]
  },
  {
   "cell_type": "code",
   "execution_count": 133,
   "id": "6392e10e",
   "metadata": {},
   "outputs": [],
   "source": [
    "data[\"word_count\"] = data[\"text\"].apply(lambda x: len(x.split()))"
   ]
  },
  {
   "cell_type": "code",
   "execution_count": 134,
   "id": "1d9d13c2",
   "metadata": {},
   "outputs": [
    {
     "name": "stderr",
     "output_type": "stream",
     "text": [
      "[nltk_data] Downloading package vader_lexicon to\n",
      "[nltk_data]     C:\\Users\\shwet\\AppData\\Roaming\\nltk_data...\n",
      "[nltk_data]   Package vader_lexicon is already up-to-date!\n"
     ]
    }
   ],
   "source": [
    "nltk.download(\"vader_lexicon\")\n",
    "\n",
    "sia = SentimentIntensityAnalyzer()\n",
    "data[\"sentiment_score\"] = data[\"content\"].apply(lambda x: sia.polarity_scores(x)[\"compound\"])\n"
   ]
  },
  {
   "cell_type": "code",
   "execution_count": 135,
   "id": "8b318fd8",
   "metadata": {},
   "outputs": [],
   "source": [
    "def classify_sentiment(score):\n",
    "    if score > 0.05:\n",
    "        return \"positive\"\n",
    "    elif score < -0.05:\n",
    "        return \"negative\"\n",
    "    else:\n",
    "        return \"neutral\"\n",
    "\n",
    "data[\"sentiment_label\"] = data[\"sentiment_score\"].apply(classify_sentiment)\n"
   ]
  },
  {
   "cell_type": "code",
   "execution_count": 136,
   "id": "2bc9cf88",
   "metadata": {},
   "outputs": [
    {
     "name": "stdout",
     "output_type": "stream",
     "text": [
      "Preprocessed data saved to preprocessed_reddit_data.csv\n"
     ]
    }
   ],
   "source": [
    "data.to_csv(\"preprocessed_reddit_data.csv\", index=False)\n",
    "print(\"Preprocessed data saved to preprocessed_reddit_data.csv\")"
   ]
  },
  {
   "cell_type": "code",
   "execution_count": 137,
   "id": "77572430",
   "metadata": {},
   "outputs": [
    {
     "name": "stdout",
     "output_type": "stream",
     "text": [
      "                                               title  score  comments  \\\n",
      "0              what is fueling duolingos duol price       1         0   \n",
      "1  do you guys believe we are in the beginning of...     12        67   \n",
      "2                  unitedhealthcare ceo fatally shot    242       179   \n",
      "3              these are the stocks on my watchlist       6         1   \n",
      "4  amazon sued by dc attorney general for alleged...     66        41   \n",
      "\n",
      "                                                 url       created  \\\n",
      "0  https://www.reddit.com/r/stocks/comments/1h6in...  1.733326e+09   \n",
      "1  https://www.reddit.com/r/stocks/comments/1h6hq...  1.733324e+09   \n",
      "2  https://www.reddit.com/r/stocks/comments/1h6h6...  1.733322e+09   \n",
      "3  https://www.reddit.com/r/stocks/comments/1h6h1...  1.733322e+09   \n",
      "4  https://www.reddit.com/r/stocks/comments/1h6gi...  1.733320e+09   \n",
      "\n",
      "                                                text  \\\n",
      "0  duolingo is trading at  pe for a market cap of...   \n",
      "1  while there are some signs pointing to a reces...   \n",
      "2  the ceo of unitedhealthcare brian thompson was...   \n",
      "3  hi i am an exprop shop equity trader\\n\\nthis i...   \n",
      "4  washington dcs attorney general sued amazon on...   \n",
      "\n",
      "                                        title_tokens  \\\n",
      "0              ['fuel', 'duolingo', 'duol', 'price']   \n",
      "1  ['guy', 'believ', 'begin', 'great', 'melt', 'r...   \n",
      "2        ['unitedhealthcar', 'ceo', 'fatal', 'shot']   \n",
      "3                             ['stock', 'watchlist']   \n",
      "4  ['amazon', 'su', 'dc', 'attorney', 'gener', 'a...   \n",
      "\n",
      "                                         text_tokens  \\\n",
      "0  ['duolingo', 'trade', 'pe', 'market', 'cap', '...   \n",
      "1  ['sign', 'point', 'recess', 'distant', 'futur'...   \n",
      "2  ['ceo', 'unitedhealthcar', 'brian', 'thompson'...   \n",
      "3  ['hi', 'exprop', 'shop', 'equiti', 'trader', '...   \n",
      "4  ['washington', 'dc', 'attorney', 'gener', 'su'...   \n",
      "\n",
      "                                             content  word_count  \\\n",
      "0  what is fueling duolingos duol price  duolingo...          52   \n",
      "1  do you guys believe we are in the beginning of...         208   \n",
      "2  unitedhealthcare ceo fatally shot the ceo of u...          53   \n",
      "3  these are the stocks on my watchlist  hi i am ...         302   \n",
      "4  amazon sued by dc attorney general for alleged...         663   \n",
      "\n",
      "   sentiment_score sentiment_label  \n",
      "0           0.5423        positive  \n",
      "1           0.0346         neutral  \n",
      "2          -0.8555        negative  \n",
      "3           0.3071        positive  \n",
      "4          -0.9343        negative  \n"
     ]
    }
   ],
   "source": [
    "data = pd.read_csv(\"preprocessed_reddit_data.csv\")\n",
    "print(data.head())\n"
   ]
  },
  {
   "cell_type": "code",
   "execution_count": 138,
   "id": "dffbecf8",
   "metadata": {},
   "outputs": [
    {
     "name": "stderr",
     "output_type": "stream",
     "text": [
      "[nltk_data] Downloading package vader_lexicon to\n",
      "[nltk_data]     C:\\Users\\shwet\\AppData\\Roaming\\nltk_data...\n",
      "[nltk_data]   Package vader_lexicon is already up-to-date!\n"
     ]
    }
   ],
   "source": [
    "nltk.download(\"vader_lexicon\")\n",
    "\n",
    "sia = SentimentIntensityAnalyzer()\n"
   ]
  },
  {
   "cell_type": "code",
   "execution_count": 139,
   "id": "618c3fe6",
   "metadata": {
    "scrolled": true
   },
   "outputs": [
    {
     "name": "stdout",
     "output_type": "stream",
     "text": [
      "                                             content  vader_sentiment_score  \\\n",
      "0  what is fueling duolingos duol price  duolingo...                 0.5423   \n",
      "1  do you guys believe we are in the beginning of...                 0.0346   \n",
      "2  unitedhealthcare ceo fatally shot the ceo of u...                -0.8555   \n",
      "3  these are the stocks on my watchlist  hi i am ...                 0.3071   \n",
      "4  amazon sued by dc attorney general for alleged...                -0.9343   \n",
      "\n",
      "  vader_sentiment_label  \n",
      "0              positive  \n",
      "1               neutral  \n",
      "2              negative  \n",
      "3              positive  \n",
      "4              negative  \n"
     ]
    }
   ],
   "source": [
    "data[\"vader_sentiment_score\"] = data[\"content\"].apply(lambda x: sia.polarity_scores(x)[\"compound\"])\n",
    "\n",
    "\n",
    "def classify_vader_sentiment(score):\n",
    "    if score > 0.05:\n",
    "        return \"positive\"\n",
    "    elif score < -0.05:\n",
    "        return \"negative\"\n",
    "    else:\n",
    "        return \"neutral\"\n",
    "\n",
    "data[\"vader_sentiment_label\"] = data[\"vader_sentiment_score\"].apply(classify_vader_sentiment)\n",
    "\n",
    "print(data[[\"content\", \"vader_sentiment_score\", \"vader_sentiment_label\"]].head())\n"
   ]
  },
  {
   "cell_type": "code",
   "execution_count": 21,
   "id": "2f3802e8",
   "metadata": {},
   "outputs": [],
   "source": []
  },
  {
   "cell_type": "code",
   "execution_count": 140,
   "id": "482bc3d7",
   "metadata": {},
   "outputs": [
    {
     "name": "stdout",
     "output_type": "stream",
     "text": [
      "                                             content  textblob_polarity  \\\n",
      "0  what is fueling duolingos duol price  duolingo...           0.190000   \n",
      "1  do you guys believe we are in the beginning of...           0.165000   \n",
      "2  unitedhealthcare ceo fatally shot the ceo of u...           0.000000   \n",
      "3  these are the stocks on my watchlist  hi i am ...           0.053788   \n",
      "4  amazon sued by dc attorney general for alleged...           0.051351   \n",
      "\n",
      "  textblob_sentiment_label  \n",
      "0                 positive  \n",
      "1                 positive  \n",
      "2                  neutral  \n",
      "3                 positive  \n",
      "4                 positive  \n"
     ]
    }
   ],
   "source": [
    "# Calculate TextBlob polarity and subjectivity\n",
    "data[\"textblob_polarity\"] = data[\"content\"].apply(lambda x: TextBlob(x).sentiment.polarity)\n",
    "data[\"textblob_subjectivity\"] = data[\"content\"].apply(lambda x: TextBlob(x).sentiment.subjectivity)\n",
    "\n",
    "def classify_textblob_sentiment(polarity):\n",
    "    if polarity > 0:\n",
    "        return \"positive\"\n",
    "    elif polarity < 0:\n",
    "        return \"negative\"\n",
    "    else:\n",
    "        return \"neutral\"\n",
    "\n",
    "data[\"textblob_sentiment_label\"] = data[\"textblob_polarity\"].apply(classify_textblob_sentiment)\n",
    "\n",
    "print(data[[\"content\", \"textblob_polarity\", \"textblob_sentiment_label\"]].head())\n"
   ]
  },
  {
   "cell_type": "code",
   "execution_count": 141,
   "id": "c7f4ee2d",
   "metadata": {},
   "outputs": [
    {
     "name": "stdout",
     "output_type": "stream",
     "text": [
      "Sentiment analysis results saved to reddit_sentiment_analysis.csv\n"
     ]
    }
   ],
   "source": [
    "data.to_csv(\"reddit_sentiment_analysis.csv\", index=False)\n",
    "print(\"Sentiment analysis results saved to reddit_sentiment_analysis.csv\")\n"
   ]
  },
  {
   "cell_type": "code",
   "execution_count": 24,
   "id": "d28c9892",
   "metadata": {},
   "outputs": [],
   "source": []
  },
  {
   "cell_type": "code",
   "execution_count": 142,
   "id": "4cad8b39",
   "metadata": {},
   "outputs": [
    {
     "data": {
      "image/png": "[encoded data removed]",
      "text/plain": [
       "<Figure size 640x480 with 1 Axes>"
      ]
     },
     "metadata": {},
     "output_type": "display_data"
    }
   ],
   "source": [
    "#sentiment label counts\n",
    "sns.countplot(data=data, x=\"vader_sentiment_label\", palette=\"viridis\")\n",
    "plt.title(\"VADER Sentiment Distribution\")\n",
    "plt.show()\n"
   ]
  },
  {
   "cell_type": "code",
   "execution_count": 143,
   "id": "58771ebc",
   "metadata": {},
   "outputs": [
    {
     "data": {
      "image/png": "[encoded data removed]",
      "text/plain": [
       "<Figure size 640x480 with 1 Axes>"
      ]
     },
     "metadata": {},
     "output_type": "display_data"
    }
   ],
   "source": [
    "sns.countplot(data=data, x=\"textblob_sentiment_label\", palette=\"coolwarm\")\n",
    "plt.title(\"TextBlob Sentiment Distribution\")\n",
    "plt.show()\n"
   ]
  },
  {
   "cell_type": "code",
   "execution_count": 144,
   "id": "27f60fd5",
   "metadata": {},
   "outputs": [
    {
     "name": "stdout",
     "output_type": "stream",
     "text": [
      "VADER Sentiment and Average Scores:\n",
      "vader_sentiment_label\n",
      "negative    134.857143\n",
      "neutral       6.000000\n",
      "positive    181.321429\n",
      "Name: score, dtype: float64\n",
      "\n",
      "TextBlob Sentiment and Average Scores:\n",
      "textblob_sentiment_label\n",
      "negative    283.923077\n",
      "neutral     180.500000\n",
      "positive    153.870588\n",
      "Name: score, dtype: float64\n"
     ]
    }
   ],
   "source": [
    "# Analyze average upvotes for each sentiment\n",
    "vader_sentiment_analysis = data.groupby(\"vader_sentiment_label\")[\"score\"].mean()\n",
    "textblob_sentiment_analysis = data.groupby(\"textblob_sentiment_label\")[\"score\"].mean()\n",
    "\n",
    "print(\"VADER Sentiment and Average Scores:\")\n",
    "print(vader_sentiment_analysis)\n",
    "\n",
    "print(\"\\nTextBlob Sentiment and Average Scores:\")\n",
    "print(textblob_sentiment_analysis)\n"
   ]
  },
  {
   "cell_type": "code",
   "execution_count": null,
   "id": "a8ecf0c7",
   "metadata": {},
   "outputs": [],
   "source": []
  },
  {
   "cell_type": "code",
   "execution_count": 145,
   "id": "4a526237",
   "metadata": {},
   "outputs": [
    {
     "data": {
      "text/html": [
       "<div>\n",
       "<style scoped>\n",
       "    .dataframe tbody tr th:only-of-type {\n",
       "        vertical-align: middle;\n",
       "    }\n",
       "\n",
       "    .dataframe tbody tr th {\n",
       "        vertical-align: top;\n",
       "    }\n",
       "\n",
       "    .dataframe thead th {\n",
       "        text-align: right;\n",
       "    }\n",
       "</style>\n",
       "<table border=\"1\" class=\"dataframe\">\n",
       "  <thead>\n",
       "    <tr style=\"text-align: right;\">\n",
       "      <th></th>\n",
       "      <th>Date</th>\n",
       "      <th>Open</th>\n",
       "      <th>High</th>\n",
       "      <th>Low</th>\n",
       "      <th>Close</th>\n",
       "      <th>Adj Close</th>\n",
       "      <th>Volume</th>\n",
       "    </tr>\n",
       "  </thead>\n",
       "  <tbody>\n",
       "    <tr>\n",
       "      <th>0</th>\n",
       "      <td>Dec 2, 2024</td>\n",
       "      <td>237.27</td>\n",
       "      <td>240.79</td>\n",
       "      <td>237.16</td>\n",
       "      <td>239.59</td>\n",
       "      <td>239.59</td>\n",
       "      <td>42,439,900</td>\n",
       "    </tr>\n",
       "    <tr>\n",
       "      <th>1</th>\n",
       "      <td>Nov 29, 2024</td>\n",
       "      <td>234.81</td>\n",
       "      <td>237.81</td>\n",
       "      <td>233.97</td>\n",
       "      <td>237.33</td>\n",
       "      <td>237.33</td>\n",
       "      <td>28,481,400</td>\n",
       "    </tr>\n",
       "    <tr>\n",
       "      <th>2</th>\n",
       "      <td>Nov 27, 2024</td>\n",
       "      <td>234.47</td>\n",
       "      <td>235.69</td>\n",
       "      <td>233.81</td>\n",
       "      <td>234.93</td>\n",
       "      <td>234.93</td>\n",
       "      <td>33,498,400</td>\n",
       "    </tr>\n",
       "    <tr>\n",
       "      <th>3</th>\n",
       "      <td>Nov 26, 2024</td>\n",
       "      <td>233.33</td>\n",
       "      <td>235.57</td>\n",
       "      <td>233.33</td>\n",
       "      <td>235.06</td>\n",
       "      <td>235.06</td>\n",
       "      <td>45,986,200</td>\n",
       "    </tr>\n",
       "  </tbody>\n",
       "</table>\n",
       "</div>"
      ],
      "text/plain": [
       "           Date    Open    High     Low   Close  Adj Close      Volume\n",
       "0   Dec 2, 2024  237.27  240.79  237.16  239.59     239.59  42,439,900\n",
       "1  Nov 29, 2024  234.81  237.81  233.97  237.33     237.33  28,481,400\n",
       "2  Nov 27, 2024  234.47  235.69  233.81  234.93     234.93  33,498,400\n",
       "3  Nov 26, 2024  233.33  235.57  233.33  235.06     235.06  45,986,200"
      ]
     },
     "execution_count": 145,
     "metadata": {},
     "output_type": "execute_result"
    }
   ],
   "source": [
    "stock_data = pd.read_csv(\"finance.csv\")\n",
    "stock_data.head(4)"
   ]
  },
  {
   "cell_type": "code",
   "execution_count": 146,
   "id": "44347761",
   "metadata": {},
   "outputs": [
    {
     "data": {
      "text/html": [
       "<div>\n",
       "<style scoped>\n",
       "    .dataframe tbody tr th:only-of-type {\n",
       "        vertical-align: middle;\n",
       "    }\n",
       "\n",
       "    .dataframe tbody tr th {\n",
       "        vertical-align: top;\n",
       "    }\n",
       "\n",
       "    .dataframe thead th {\n",
       "        text-align: right;\n",
       "    }\n",
       "</style>\n",
       "<table border=\"1\" class=\"dataframe\">\n",
       "  <thead>\n",
       "    <tr style=\"text-align: right;\">\n",
       "      <th></th>\n",
       "      <th>Date</th>\n",
       "      <th>Open</th>\n",
       "      <th>High</th>\n",
       "      <th>Low</th>\n",
       "      <th>Close</th>\n",
       "      <th>Adj Close</th>\n",
       "      <th>Volume</th>\n",
       "    </tr>\n",
       "  </thead>\n",
       "  <tbody>\n",
       "    <tr>\n",
       "      <th>1510</th>\n",
       "      <td>Jan 8, 2019</td>\n",
       "      <td>37.39</td>\n",
       "      <td>37.96</td>\n",
       "      <td>37.13</td>\n",
       "      <td>37.69</td>\n",
       "      <td>36.00</td>\n",
       "      <td>164,101,200</td>\n",
       "    </tr>\n",
       "    <tr>\n",
       "      <th>1511</th>\n",
       "      <td>Jan 7, 2019</td>\n",
       "      <td>37.17</td>\n",
       "      <td>37.21</td>\n",
       "      <td>36.47</td>\n",
       "      <td>36.98</td>\n",
       "      <td>35.32</td>\n",
       "      <td>219,111,200</td>\n",
       "    </tr>\n",
       "    <tr>\n",
       "      <th>1512</th>\n",
       "      <td>Jan 4, 2019</td>\n",
       "      <td>36.13</td>\n",
       "      <td>37.14</td>\n",
       "      <td>35.95</td>\n",
       "      <td>37.06</td>\n",
       "      <td>35.40</td>\n",
       "      <td>234,428,400</td>\n",
       "    </tr>\n",
       "    <tr>\n",
       "      <th>1513</th>\n",
       "      <td>Jan 3, 2019</td>\n",
       "      <td>35.99</td>\n",
       "      <td>36.43</td>\n",
       "      <td>35.50</td>\n",
       "      <td>35.55</td>\n",
       "      <td>33.95</td>\n",
       "      <td>365,248,800</td>\n",
       "    </tr>\n",
       "    <tr>\n",
       "      <th>1514</th>\n",
       "      <td>Jan 2, 2019</td>\n",
       "      <td>38.72</td>\n",
       "      <td>39.71</td>\n",
       "      <td>38.56</td>\n",
       "      <td>39.48</td>\n",
       "      <td>37.71</td>\n",
       "      <td>148,158,800</td>\n",
       "    </tr>\n",
       "  </tbody>\n",
       "</table>\n",
       "</div>"
      ],
      "text/plain": [
       "             Date   Open   High    Low  Close  Adj Close       Volume\n",
       "1510  Jan 8, 2019  37.39  37.96  37.13  37.69      36.00  164,101,200\n",
       "1511  Jan 7, 2019  37.17  37.21  36.47  36.98      35.32  219,111,200\n",
       "1512  Jan 4, 2019  36.13  37.14  35.95  37.06      35.40  234,428,400\n",
       "1513  Jan 3, 2019  35.99  36.43  35.50  35.55      33.95  365,248,800\n",
       "1514  Jan 2, 2019  38.72  39.71  38.56  39.48      37.71  148,158,800"
      ]
     },
     "execution_count": 146,
     "metadata": {},
     "output_type": "execute_result"
    }
   ],
   "source": [
    "stock_data.tail()"
   ]
  },
  {
   "cell_type": "code",
   "execution_count": 147,
   "id": "6edcd302",
   "metadata": {},
   "outputs": [
    {
     "data": {
      "text/plain": [
       "Date          0\n",
       "Open          0\n",
       "High         25\n",
       "Low          25\n",
       "Close        25\n",
       "Adj Close    25\n",
       "Volume       25\n",
       "dtype: int64"
      ]
     },
     "execution_count": 147,
     "metadata": {},
     "output_type": "execute_result"
    }
   ],
   "source": [
    "stock_data.isnull().sum()"
   ]
  },
  {
   "cell_type": "code",
   "execution_count": 148,
   "id": "29a6f1cc",
   "metadata": {},
   "outputs": [
    {
     "name": "stdout",
     "output_type": "stream",
     "text": [
      "        Date   Close      Volume\n",
      "0 2024-12-02  239.59  42,439,900\n",
      "1 2024-11-29  237.33  28,481,400\n",
      "2 2024-11-27  234.93  33,498,400\n",
      "3 2024-11-26  235.06  45,986,200\n",
      "4 2024-11-25  232.87  90,152,800\n"
     ]
    }
   ],
   "source": [
    "stock_data['Date'] = pd.to_datetime(stock_data['Date'])\n",
    "\n",
    "stock_data = stock_data[['Date', 'Close', 'Volume']]\n",
    "stock_data.dropna(inplace=True)\n",
    "\n",
    "print(stock_data.head())\n"
   ]
  },
  {
   "cell_type": "code",
   "execution_count": 149,
   "id": "cfe63a14",
   "metadata": {},
   "outputs": [
    {
     "data": {
      "text/plain": [
       "Date      0\n",
       "Close     0\n",
       "Volume    0\n",
       "dtype: int64"
      ]
     },
     "execution_count": 149,
     "metadata": {},
     "output_type": "execute_result"
    }
   ],
   "source": [
    "stock_data.isnull().sum()"
   ]
  },
  {
   "cell_type": "code",
   "execution_count": null,
   "id": "0586b7d9",
   "metadata": {},
   "outputs": [],
   "source": []
  },
  {
   "cell_type": "code",
   "execution_count": 150,
   "id": "7207346a",
   "metadata": {},
   "outputs": [
    {
     "name": "stdout",
     "output_type": "stream",
     "text": [
      "                                               title  score  comments  \\\n",
      "0                                 Thoughts on DWL.L?      1         1   \n",
      "1  r/Stocks Daily Discussion & Technicals Tuesday...      3         1   \n",
      "2  Can someone please explain the process of recl...      4         2   \n",
      "3  Rivian's potential $6.6 billion DoE loan catch...    360       103   \n",
      "4  Raytheon awarded 1.3 Billion Navy / DOD contra...     30        16   \n",
      "\n",
      "                                                 url       created  \\\n",
      "0  https://www.reddit.com/r/stocks/comments/1h5l2...  1.733224e+09   \n",
      "1  https://www.reddit.com/r/stocks/comments/1h5kh...  1.733222e+09   \n",
      "2  https://www.reddit.com/r/stocks/comments/1h5d9...  1.733194e+09   \n",
      "3  https://www.reddit.com/r/stocks/comments/1h58s...  1.733181e+09   \n",
      "4  https://www.reddit.com/r/stocks/comments/1h58a...  1.733180e+09   \n",
      "\n",
      "                                                text  \\\n",
      "0  Is Dowlais Group Plc really undervalued, or am...   \n",
      "1  This is the daily discussion, so anything stoc...   \n",
      "2  Hi guys. If you could please help me out i’d b...   \n",
      "3  [Rivian's potential $6.6 billion DoE loan catc...   \n",
      "4  Just released on the Department of Defense con...   \n",
      "\n",
      "                                        cleaned_text  textblob_polarity  \\\n",
      "0  is dowlais group plc really undervalued or am ...           0.160556   \n",
      "1  this is the daily discussion so anything stock...           0.009058   \n",
      "2  hi guys if you could please help me out id be ...           0.014610   \n",
      "3  rivians potential  billion doe loan catches ey...          -0.063328   \n",
      "4  just released on the department of defense con...          -0.032407   \n",
      "\n",
      "   vader_sentiment sentiment_label  \n",
      "0           0.6823        positive  \n",
      "1           0.9648        positive  \n",
      "2           0.6078        positive  \n",
      "3           0.7184        positive  \n",
      "4           0.9808        positive  \n",
      "Index(['title', 'score', 'comments', 'url', 'created', 'text', 'cleaned_text',\n",
      "       'textblob_polarity', 'vader_sentiment', 'sentiment_label'],\n",
      "      dtype='object')\n"
     ]
    }
   ],
   "source": [
    "sentiment_data = pd.read_csv(\"processed_sentiment_data.csv\")\n",
    "print(sentiment_data.head())\n",
    "print(sentiment_data.columns)"
   ]
  },
  {
   "cell_type": "code",
   "execution_count": 151,
   "id": "e57c8c5b",
   "metadata": {},
   "outputs": [
    {
     "data": {
      "text/html": [
       "<div>\n",
       "<style scoped>\n",
       "    .dataframe tbody tr th:only-of-type {\n",
       "        vertical-align: middle;\n",
       "    }\n",
       "\n",
       "    .dataframe tbody tr th {\n",
       "        vertical-align: top;\n",
       "    }\n",
       "\n",
       "    .dataframe thead th {\n",
       "        text-align: right;\n",
       "    }\n",
       "</style>\n",
       "<table border=\"1\" class=\"dataframe\">\n",
       "  <thead>\n",
       "    <tr style=\"text-align: right;\">\n",
       "      <th></th>\n",
       "      <th>title</th>\n",
       "      <th>score</th>\n",
       "      <th>comments</th>\n",
       "      <th>url</th>\n",
       "      <th>created</th>\n",
       "      <th>text</th>\n",
       "      <th>cleaned_text</th>\n",
       "      <th>textblob_polarity</th>\n",
       "      <th>vader_sentiment</th>\n",
       "      <th>sentiment_label</th>\n",
       "    </tr>\n",
       "  </thead>\n",
       "  <tbody>\n",
       "    <tr>\n",
       "      <th>0</th>\n",
       "      <td>Thoughts on DWL.L?</td>\n",
       "      <td>1</td>\n",
       "      <td>1</td>\n",
       "      <td>https://www.reddit.com/r/stocks/comments/1h5l2...</td>\n",
       "      <td>1.733224e+09</td>\n",
       "      <td>Is Dowlais Group Plc really undervalued, or am...</td>\n",
       "      <td>is dowlais group plc really undervalued or am ...</td>\n",
       "      <td>0.160556</td>\n",
       "      <td>0.6823</td>\n",
       "      <td>positive</td>\n",
       "    </tr>\n",
       "    <tr>\n",
       "      <th>1</th>\n",
       "      <td>r/Stocks Daily Discussion &amp; Technicals Tuesday...</td>\n",
       "      <td>3</td>\n",
       "      <td>1</td>\n",
       "      <td>https://www.reddit.com/r/stocks/comments/1h5kh...</td>\n",
       "      <td>1.733222e+09</td>\n",
       "      <td>This is the daily discussion, so anything stoc...</td>\n",
       "      <td>this is the daily discussion so anything stock...</td>\n",
       "      <td>0.009058</td>\n",
       "      <td>0.9648</td>\n",
       "      <td>positive</td>\n",
       "    </tr>\n",
       "    <tr>\n",
       "      <th>2</th>\n",
       "      <td>Can someone please explain the process of recl...</td>\n",
       "      <td>4</td>\n",
       "      <td>2</td>\n",
       "      <td>https://www.reddit.com/r/stocks/comments/1h5d9...</td>\n",
       "      <td>1.733194e+09</td>\n",
       "      <td>Hi guys. If you could please help me out i’d b...</td>\n",
       "      <td>hi guys if you could please help me out id be ...</td>\n",
       "      <td>0.014610</td>\n",
       "      <td>0.6078</td>\n",
       "      <td>positive</td>\n",
       "    </tr>\n",
       "    <tr>\n",
       "      <th>3</th>\n",
       "      <td>Rivian's potential $6.6 billion DoE loan catch...</td>\n",
       "      <td>360</td>\n",
       "      <td>103</td>\n",
       "      <td>https://www.reddit.com/r/stocks/comments/1h58s...</td>\n",
       "      <td>1.733181e+09</td>\n",
       "      <td>[Rivian's potential $6.6 billion DoE loan catc...</td>\n",
       "      <td>rivians potential  billion doe loan catches ey...</td>\n",
       "      <td>-0.063328</td>\n",
       "      <td>0.7184</td>\n",
       "      <td>positive</td>\n",
       "    </tr>\n",
       "    <tr>\n",
       "      <th>4</th>\n",
       "      <td>Raytheon awarded 1.3 Billion Navy / DOD contra...</td>\n",
       "      <td>30</td>\n",
       "      <td>16</td>\n",
       "      <td>https://www.reddit.com/r/stocks/comments/1h58a...</td>\n",
       "      <td>1.733180e+09</td>\n",
       "      <td>Just released on the Department of Defense con...</td>\n",
       "      <td>just released on the department of defense con...</td>\n",
       "      <td>-0.032407</td>\n",
       "      <td>0.9808</td>\n",
       "      <td>positive</td>\n",
       "    </tr>\n",
       "  </tbody>\n",
       "</table>\n",
       "</div>"
      ],
      "text/plain": [
       "                                               title  score  comments  \\\n",
       "0                                 Thoughts on DWL.L?      1         1   \n",
       "1  r/Stocks Daily Discussion & Technicals Tuesday...      3         1   \n",
       "2  Can someone please explain the process of recl...      4         2   \n",
       "3  Rivian's potential $6.6 billion DoE loan catch...    360       103   \n",
       "4  Raytheon awarded 1.3 Billion Navy / DOD contra...     30        16   \n",
       "\n",
       "                                                 url       created  \\\n",
       "0  https://www.reddit.com/r/stocks/comments/1h5l2...  1.733224e+09   \n",
       "1  https://www.reddit.com/r/stocks/comments/1h5kh...  1.733222e+09   \n",
       "2  https://www.reddit.com/r/stocks/comments/1h5d9...  1.733194e+09   \n",
       "3  https://www.reddit.com/r/stocks/comments/1h58s...  1.733181e+09   \n",
       "4  https://www.reddit.com/r/stocks/comments/1h58a...  1.733180e+09   \n",
       "\n",
       "                                                text  \\\n",
       "0  Is Dowlais Group Plc really undervalued, or am...   \n",
       "1  This is the daily discussion, so anything stoc...   \n",
       "2  Hi guys. If you could please help me out i’d b...   \n",
       "3  [Rivian's potential $6.6 billion DoE loan catc...   \n",
       "4  Just released on the Department of Defense con...   \n",
       "\n",
       "                                        cleaned_text  textblob_polarity  \\\n",
       "0  is dowlais group plc really undervalued or am ...           0.160556   \n",
       "1  this is the daily discussion so anything stock...           0.009058   \n",
       "2  hi guys if you could please help me out id be ...           0.014610   \n",
       "3  rivians potential  billion doe loan catches ey...          -0.063328   \n",
       "4  just released on the department of defense con...          -0.032407   \n",
       "\n",
       "   vader_sentiment sentiment_label  \n",
       "0           0.6823        positive  \n",
       "1           0.9648        positive  \n",
       "2           0.6078        positive  \n",
       "3           0.7184        positive  \n",
       "4           0.9808        positive  "
      ]
     },
     "execution_count": 151,
     "metadata": {},
     "output_type": "execute_result"
    }
   ],
   "source": [
    "sentiment_data.head()"
   ]
  },
  {
   "cell_type": "code",
   "execution_count": 152,
   "id": "1394e313",
   "metadata": {},
   "outputs": [],
   "source": [
    "sentiment_data.rename(columns={\"date\": \"Date\"}, inplace=True)"
   ]
  },
  {
   "cell_type": "code",
   "execution_count": 153,
   "id": "f091f6c8",
   "metadata": {},
   "outputs": [],
   "source": [
    "num_rows = sentiment_data.shape[0]\n",
    "start_date = \"2023-01-01\"\n",
    "\n",
    "sentiment_data['Date'] = pd.date_range(start=start_date, periods=num_rows, freq='D')\n"
   ]
  },
  {
   "cell_type": "code",
   "execution_count": 154,
   "id": "6efa8928",
   "metadata": {},
   "outputs": [
    {
     "name": "stdout",
     "output_type": "stream",
     "text": [
      "                                               title  score  comments  \\\n",
      "0  Can someone please explain the process of recl...      4         2   \n",
      "1  Rivian's potential $6.6 billion DoE loan catch...    360       103   \n",
      "2  Raytheon awarded 1.3 Billion Navy / DOD contra...     30        16   \n",
      "3  Tesla CEO Elon Musk loses bid to get $56 billi...   4204       793   \n",
      "4                       What do we think about IOVA?      0        15   \n",
      "\n",
      "                                                 url       created  \\\n",
      "0  https://www.reddit.com/r/stocks/comments/1h5d9...  1.733194e+09   \n",
      "1  https://www.reddit.com/r/stocks/comments/1h58s...  1.733181e+09   \n",
      "2  https://www.reddit.com/r/stocks/comments/1h58a...  1.733180e+09   \n",
      "3  https://www.reddit.com/r/stocks/comments/1h57c...  1.733177e+09   \n",
      "4  https://www.reddit.com/r/stocks/comments/1h54h...  1.733170e+09   \n",
      "\n",
      "                                                text  \\\n",
      "0  Hi guys. If you could please help me out i’d b...   \n",
      "1  [Rivian's potential $6.6 billion DoE loan catc...   \n",
      "2  Just released on the Department of Defense con...   \n",
      "3  A Delaware judge ruled on Monday that Tesla, C...   \n",
      "4  Firstly congrats everyone on RKLB, ACHR and LU...   \n",
      "\n",
      "                                        cleaned_text  textblob_polarity  \\\n",
      "0  hi guys if you could please help me out id be ...           0.014610   \n",
      "1  rivians potential  billion doe loan catches ey...          -0.063328   \n",
      "2  just released on the department of defense con...          -0.032407   \n",
      "3  a delaware judge ruled on monday that tesla ce...           0.183333   \n",
      "4  firstly congrats everyone on rklb achr and lun...           0.126540   \n",
      "\n",
      "   vader_sentiment sentiment_label       Date   Close       Volume  \n",
      "0           0.6078        positive 2023-01-03  125.07  112,117,500  \n",
      "1           0.7184        positive 2023-01-04  126.36   89,113,600  \n",
      "2           0.9808        positive 2023-01-05  125.02   80,962,700  \n",
      "3           0.7335        positive 2023-01-06  129.62   87,754,700  \n",
      "4           0.9952        positive 2023-01-09  130.15   70,790,800  \n"
     ]
    }
   ],
   "source": [
    "sentiment_data['Date'] = pd.to_datetime(sentiment_data['Date'])\n",
    "\n",
    "merged_data = pd.merge(sentiment_data, stock_data, on='Date', how='inner')\n",
    "print(merged_data.head())\n"
   ]
  },
  {
   "cell_type": "code",
   "execution_count": 155,
   "id": "ae351785",
   "metadata": {},
   "outputs": [
    {
     "data": {
      "text/html": [
       "<div>\n",
       "<style scoped>\n",
       "    .dataframe tbody tr th:only-of-type {\n",
       "        vertical-align: middle;\n",
       "    }\n",
       "\n",
       "    .dataframe tbody tr th {\n",
       "        vertical-align: top;\n",
       "    }\n",
       "\n",
       "    .dataframe thead th {\n",
       "        text-align: right;\n",
       "    }\n",
       "</style>\n",
       "<table border=\"1\" class=\"dataframe\">\n",
       "  <thead>\n",
       "    <tr style=\"text-align: right;\">\n",
       "      <th></th>\n",
       "      <th>title</th>\n",
       "      <th>score</th>\n",
       "      <th>comments</th>\n",
       "      <th>url</th>\n",
       "      <th>created</th>\n",
       "      <th>text</th>\n",
       "      <th>cleaned_text</th>\n",
       "      <th>textblob_polarity</th>\n",
       "      <th>vader_sentiment</th>\n",
       "      <th>sentiment_label</th>\n",
       "      <th>Date</th>\n",
       "      <th>Close</th>\n",
       "      <th>Volume</th>\n",
       "    </tr>\n",
       "  </thead>\n",
       "  <tbody>\n",
       "    <tr>\n",
       "      <th>0</th>\n",
       "      <td>Can someone please explain the process of recl...</td>\n",
       "      <td>4</td>\n",
       "      <td>2</td>\n",
       "      <td>https://www.reddit.com/r/stocks/comments/1h5d9...</td>\n",
       "      <td>1.733194e+09</td>\n",
       "      <td>Hi guys. If you could please help me out i’d b...</td>\n",
       "      <td>hi guys if you could please help me out id be ...</td>\n",
       "      <td>0.014610</td>\n",
       "      <td>0.6078</td>\n",
       "      <td>positive</td>\n",
       "      <td>2023-01-03</td>\n",
       "      <td>125.07</td>\n",
       "      <td>112,117,500</td>\n",
       "    </tr>\n",
       "    <tr>\n",
       "      <th>1</th>\n",
       "      <td>Rivian's potential $6.6 billion DoE loan catch...</td>\n",
       "      <td>360</td>\n",
       "      <td>103</td>\n",
       "      <td>https://www.reddit.com/r/stocks/comments/1h58s...</td>\n",
       "      <td>1.733181e+09</td>\n",
       "      <td>[Rivian's potential $6.6 billion DoE loan catc...</td>\n",
       "      <td>rivians potential  billion doe loan catches ey...</td>\n",
       "      <td>-0.063328</td>\n",
       "      <td>0.7184</td>\n",
       "      <td>positive</td>\n",
       "      <td>2023-01-04</td>\n",
       "      <td>126.36</td>\n",
       "      <td>89,113,600</td>\n",
       "    </tr>\n",
       "    <tr>\n",
       "      <th>2</th>\n",
       "      <td>Raytheon awarded 1.3 Billion Navy / DOD contra...</td>\n",
       "      <td>30</td>\n",
       "      <td>16</td>\n",
       "      <td>https://www.reddit.com/r/stocks/comments/1h58a...</td>\n",
       "      <td>1.733180e+09</td>\n",
       "      <td>Just released on the Department of Defense con...</td>\n",
       "      <td>just released on the department of defense con...</td>\n",
       "      <td>-0.032407</td>\n",
       "      <td>0.9808</td>\n",
       "      <td>positive</td>\n",
       "      <td>2023-01-05</td>\n",
       "      <td>125.02</td>\n",
       "      <td>80,962,700</td>\n",
       "    </tr>\n",
       "    <tr>\n",
       "      <th>3</th>\n",
       "      <td>Tesla CEO Elon Musk loses bid to get $56 billi...</td>\n",
       "      <td>4204</td>\n",
       "      <td>793</td>\n",
       "      <td>https://www.reddit.com/r/stocks/comments/1h57c...</td>\n",
       "      <td>1.733177e+09</td>\n",
       "      <td>A Delaware judge ruled on Monday that Tesla, C...</td>\n",
       "      <td>a delaware judge ruled on monday that tesla ce...</td>\n",
       "      <td>0.183333</td>\n",
       "      <td>0.7335</td>\n",
       "      <td>positive</td>\n",
       "      <td>2023-01-06</td>\n",
       "      <td>129.62</td>\n",
       "      <td>87,754,700</td>\n",
       "    </tr>\n",
       "    <tr>\n",
       "      <th>4</th>\n",
       "      <td>What do we think about IOVA?</td>\n",
       "      <td>0</td>\n",
       "      <td>15</td>\n",
       "      <td>https://www.reddit.com/r/stocks/comments/1h54h...</td>\n",
       "      <td>1.733170e+09</td>\n",
       "      <td>Firstly congrats everyone on RKLB, ACHR and LU...</td>\n",
       "      <td>firstly congrats everyone on rklb achr and lun...</td>\n",
       "      <td>0.126540</td>\n",
       "      <td>0.9952</td>\n",
       "      <td>positive</td>\n",
       "      <td>2023-01-09</td>\n",
       "      <td>130.15</td>\n",
       "      <td>70,790,800</td>\n",
       "    </tr>\n",
       "  </tbody>\n",
       "</table>\n",
       "</div>"
      ],
      "text/plain": [
       "                                               title  score  comments  \\\n",
       "0  Can someone please explain the process of recl...      4         2   \n",
       "1  Rivian's potential $6.6 billion DoE loan catch...    360       103   \n",
       "2  Raytheon awarded 1.3 Billion Navy / DOD contra...     30        16   \n",
       "3  Tesla CEO Elon Musk loses bid to get $56 billi...   4204       793   \n",
       "4                       What do we think about IOVA?      0        15   \n",
       "\n",
       "                                                 url       created  \\\n",
       "0  https://www.reddit.com/r/stocks/comments/1h5d9...  1.733194e+09   \n",
       "1  https://www.reddit.com/r/stocks/comments/1h58s...  1.733181e+09   \n",
       "2  https://www.reddit.com/r/stocks/comments/1h58a...  1.733180e+09   \n",
       "3  https://www.reddit.com/r/stocks/comments/1h57c...  1.733177e+09   \n",
       "4  https://www.reddit.com/r/stocks/comments/1h54h...  1.733170e+09   \n",
       "\n",
       "                                                text  \\\n",
       "0  Hi guys. If you could please help me out i’d b...   \n",
       "1  [Rivian's potential $6.6 billion DoE loan catc...   \n",
       "2  Just released on the Department of Defense con...   \n",
       "3  A Delaware judge ruled on Monday that Tesla, C...   \n",
       "4  Firstly congrats everyone on RKLB, ACHR and LU...   \n",
       "\n",
       "                                        cleaned_text  textblob_polarity  \\\n",
       "0  hi guys if you could please help me out id be ...           0.014610   \n",
       "1  rivians potential  billion doe loan catches ey...          -0.063328   \n",
       "2  just released on the department of defense con...          -0.032407   \n",
       "3  a delaware judge ruled on monday that tesla ce...           0.183333   \n",
       "4  firstly congrats everyone on rklb achr and lun...           0.126540   \n",
       "\n",
       "   vader_sentiment sentiment_label       Date   Close       Volume  \n",
       "0           0.6078        positive 2023-01-03  125.07  112,117,500  \n",
       "1           0.7184        positive 2023-01-04  126.36   89,113,600  \n",
       "2           0.9808        positive 2023-01-05  125.02   80,962,700  \n",
       "3           0.7335        positive 2023-01-06  129.62   87,754,700  \n",
       "4           0.9952        positive 2023-01-09  130.15   70,790,800  "
      ]
     },
     "execution_count": 155,
     "metadata": {},
     "output_type": "execute_result"
    }
   ],
   "source": [
    "merged_data.head()"
   ]
  },
  {
   "cell_type": "code",
   "execution_count": 158,
   "id": "bcf71e08",
   "metadata": {},
   "outputs": [],
   "source": [
    "merged_data['Prev_Close'] = merged_data['Close'].shift(1)\n",
    "merged_data.dropna(inplace=True)"
   ]
  },
  {
   "cell_type": "code",
   "execution_count": 157,
   "id": "9e41c26d",
   "metadata": {},
   "outputs": [],
   "source": [
    "merged_data['Weighted_Sentiment'] = merged_data['score'] * merged_data['Volume']"
   ]
  },
  {
   "cell_type": "code",
   "execution_count": null,
   "id": "8be5aa96",
   "metadata": {},
   "outputs": [],
   "source": []
  },
  {
   "cell_type": "code",
   "execution_count": 159,
   "id": "bf75e4ca",
   "metadata": {},
   "outputs": [],
   "source": [
    "# Remove commas \n",
    "merged_data['Volume'] = merged_data['Volume'].str.replace(',', '').astype(float)\n"
   ]
  },
  {
   "cell_type": "code",
   "execution_count": 160,
   "id": "78cee376",
   "metadata": {},
   "outputs": [],
   "source": [
    "merged_data['Prev_Close'] = pd.to_numeric(merged_data['Prev_Close'], errors='coerce')\n",
    "\n",
    "merged_data['Sentiment_Score'] = pd.to_numeric(merged_data['score'], errors='coerce')\n",
    "merged_data.dropna(inplace=True)\n"
   ]
  },
  {
   "cell_type": "code",
   "execution_count": 161,
   "id": "0955de88",
   "metadata": {},
   "outputs": [],
   "source": [
    "scaler = MinMaxScaler()\n",
    "\n",
    "merged_data[['Sentiment_Score', 'Volume', 'Prev_Close']] = scaler.fit_transform(\n",
    "    merged_data[['Sentiment_Score', 'Volume', 'Prev_Close']]\n",
    ")\n"
   ]
  },
  {
   "cell_type": "code",
   "execution_count": 162,
   "id": "4f05ddbf",
   "metadata": {},
   "outputs": [
    {
     "data": {
      "text/plain": [
       "Index(['title', 'score', 'comments', 'url', 'created', 'text', 'cleaned_text',\n",
       "       'textblob_polarity', 'vader_sentiment', 'sentiment_label', 'Date',\n",
       "       'Close', 'Volume', 'Prev_Close', 'Weighted_Sentiment',\n",
       "       'Sentiment_Score'],\n",
       "      dtype='object')"
      ]
     },
     "execution_count": 162,
     "metadata": {},
     "output_type": "execute_result"
    }
   ],
   "source": [
    "merged_data.columns"
   ]
  },
  {
   "cell_type": "code",
   "execution_count": 66,
   "id": "2a9024b3",
   "metadata": {},
   "outputs": [],
   "source": []
  },
  {
   "cell_type": "code",
   "execution_count": 163,
   "id": "7bb007de",
   "metadata": {},
   "outputs": [],
   "source": [
    "merged_data['Price_Change'] = merged_data['Close'] - merged_data['Prev_Close']\n",
    "merged_data['Stock_Price_Change'] = merged_data['Price_Change'].apply(lambda x: 1 if x > 0 else 0)\n"
   ]
  },
  {
   "cell_type": "code",
   "execution_count": null,
   "id": "7e35cccd",
   "metadata": {},
   "outputs": [],
   "source": []
  },
  {
   "cell_type": "code",
   "execution_count": 164,
   "id": "652c0294",
   "metadata": {},
   "outputs": [],
   "source": [
    "merged_data['Stock_Price_Change'] = merged_data['Close'].diff().apply(\n",
    "    lambda x: 1 if x > 0 else 0\n",
    ")\n"
   ]
  },
  {
   "cell_type": "code",
   "execution_count": 165,
   "id": "31e7b2e0",
   "metadata": {},
   "outputs": [],
   "source": [
    "merged_data['Sentiment_Label'] = merged_data['Sentiment_Score'].apply(\n",
    "    lambda x: 1 if x > 0 else 0\n",
    ")\n"
   ]
  },
  {
   "cell_type": "code",
   "execution_count": 166,
   "id": "36639a8a",
   "metadata": {},
   "outputs": [
    {
     "data": {
      "text/plain": [
       "1    40\n",
       "0    25\n",
       "Name: Stock_Price_Change, dtype: int64"
      ]
     },
     "execution_count": 166,
     "metadata": {},
     "output_type": "execute_result"
    }
   ],
   "source": [
    "merged_data['Stock_Price_Change'].value_counts()"
   ]
  },
  {
   "cell_type": "code",
   "execution_count": 167,
   "id": "c5958244",
   "metadata": {},
   "outputs": [
    {
     "data": {
      "text/plain": [
       "1    53\n",
       "0    12\n",
       "Name: Sentiment_Label, dtype: int64"
      ]
     },
     "execution_count": 167,
     "metadata": {},
     "output_type": "execute_result"
    }
   ],
   "source": [
    "merged_data['Sentiment_Label'].value_counts()"
   ]
  },
  {
   "cell_type": "code",
   "execution_count": 168,
   "id": "e98cb40d",
   "metadata": {},
   "outputs": [],
   "source": [
    "model = IsolationForest(random_state=42)\n",
    "model.fit(X)  \n",
    "predictions = model.predict(X) \n"
   ]
  },
  {
   "cell_type": "code",
   "execution_count": null,
   "id": "9f92d8e6",
   "metadata": {},
   "outputs": [],
   "source": []
  },
  {
   "cell_type": "code",
   "execution_count": null,
   "id": "4ddd30ca",
   "metadata": {},
   "outputs": [],
   "source": []
  },
  {
   "cell_type": "code",
   "execution_count": 170,
   "id": "44038e32",
   "metadata": {},
   "outputs": [],
   "source": [
    "# Define X and target y\n",
    "X = merged_data[['Sentiment_Score', 'Volume', 'Prev_Close']]\n",
    "y = merged_data['Stock_Price_Change']\n"
   ]
  },
  {
   "cell_type": "code",
   "execution_count": null,
   "id": "09624dd5",
   "metadata": {},
   "outputs": [],
   "source": []
  },
  {
   "cell_type": "code",
   "execution_count": null,
   "id": "66302b1f",
   "metadata": {},
   "outputs": [],
   "source": []
  },
  {
   "cell_type": "code",
   "execution_count": 175,
   "id": "701c7c6f",
   "metadata": {},
   "outputs": [],
   "source": [
    "X_train, X_test, y_train, y_test = train_test_split(X, y, test_size=0.2, random_state=42, stratify=y)\n"
   ]
  },
  {
   "cell_type": "code",
   "execution_count": 176,
   "id": "1a85d2f9",
   "metadata": {},
   "outputs": [
    {
     "name": "stdout",
     "output_type": "stream",
     "text": [
      "1    40\n",
      "0    25\n",
      "Name: Stock_Price_Change, dtype: int64\n"
     ]
    }
   ],
   "source": [
    "print(y.value_counts())"
   ]
  },
  {
   "cell_type": "code",
   "execution_count": 177,
   "id": "dacc8ef4",
   "metadata": {},
   "outputs": [
    {
     "data": {
      "text/plain": [
       "1    32\n",
       "0    20\n",
       "Name: Stock_Price_Change, dtype: int64"
      ]
     },
     "execution_count": 177,
     "metadata": {},
     "output_type": "execute_result"
    }
   ],
   "source": [
    "y_train.value_counts()"
   ]
  },
  {
   "cell_type": "code",
   "execution_count": 190,
   "id": "4277b001",
   "metadata": {},
   "outputs": [
    {
     "data": {
      "text/html": [
       "<div>\n",
       "<style scoped>\n",
       "    .dataframe tbody tr th:only-of-type {\n",
       "        vertical-align: middle;\n",
       "    }\n",
       "\n",
       "    .dataframe tbody tr th {\n",
       "        vertical-align: top;\n",
       "    }\n",
       "\n",
       "    .dataframe thead th {\n",
       "        text-align: right;\n",
       "    }\n",
       "</style>\n",
       "<table border=\"1\" class=\"dataframe\">\n",
       "  <thead>\n",
       "    <tr style=\"text-align: right;\">\n",
       "      <th></th>\n",
       "      <th>Sentiment_Score</th>\n",
       "      <th>Volume</th>\n",
       "      <th>Prev_Close</th>\n",
       "    </tr>\n",
       "  </thead>\n",
       "  <tbody>\n",
       "    <tr>\n",
       "      <th>31</th>\n",
       "      <td>0.027355</td>\n",
       "      <td>0.211866</td>\n",
       "      <td>0.736574</td>\n",
       "    </tr>\n",
       "    <tr>\n",
       "      <th>59</th>\n",
       "      <td>0.003568</td>\n",
       "      <td>0.057674</td>\n",
       "      <td>0.792953</td>\n",
       "    </tr>\n",
       "    <tr>\n",
       "      <th>66</th>\n",
       "      <td>0.018792</td>\n",
       "      <td>0.024858</td>\n",
       "      <td>0.963305</td>\n",
       "    </tr>\n",
       "    <tr>\n",
       "      <th>61</th>\n",
       "      <td>0.003092</td>\n",
       "      <td>0.217187</td>\n",
       "      <td>0.907412</td>\n",
       "    </tr>\n",
       "    <tr>\n",
       "      <th>55</th>\n",
       "      <td>0.052093</td>\n",
       "      <td>0.206875</td>\n",
       "      <td>0.797327</td>\n",
       "    </tr>\n",
       "    <tr>\n",
       "      <th>45</th>\n",
       "      <td>0.002617</td>\n",
       "      <td>0.080790</td>\n",
       "      <td>0.676792</td>\n",
       "    </tr>\n",
       "    <tr>\n",
       "      <th>64</th>\n",
       "      <td>0.011656</td>\n",
       "      <td>0.059558</td>\n",
       "      <td>0.986877</td>\n",
       "    </tr>\n",
       "    <tr>\n",
       "      <th>60</th>\n",
       "      <td>0.004044</td>\n",
       "      <td>0.041178</td>\n",
       "      <td>0.868773</td>\n",
       "    </tr>\n",
       "    <tr>\n",
       "      <th>12</th>\n",
       "      <td>0.055423</td>\n",
       "      <td>0.322106</td>\n",
       "      <td>0.249089</td>\n",
       "    </tr>\n",
       "    <tr>\n",
       "      <th>9</th>\n",
       "      <td>0.000000</td>\n",
       "      <td>0.170522</td>\n",
       "      <td>0.236695</td>\n",
       "    </tr>\n",
       "    <tr>\n",
       "      <th>6</th>\n",
       "      <td>0.045909</td>\n",
       "      <td>0.223671</td>\n",
       "      <td>0.138761</td>\n",
       "    </tr>\n",
       "    <tr>\n",
       "      <th>16</th>\n",
       "      <td>0.000000</td>\n",
       "      <td>0.083273</td>\n",
       "      <td>0.409235</td>\n",
       "    </tr>\n",
       "    <tr>\n",
       "      <th>13</th>\n",
       "      <td>0.002617</td>\n",
       "      <td>0.336158</td>\n",
       "      <td>0.312272</td>\n",
       "    </tr>\n",
       "    <tr>\n",
       "      <th>33</th>\n",
       "      <td>0.004757</td>\n",
       "      <td>0.126818</td>\n",
       "      <td>0.669016</td>\n",
       "    </tr>\n",
       "    <tr>\n",
       "      <th>56</th>\n",
       "      <td>0.009277</td>\n",
       "      <td>0.129830</td>\n",
       "      <td>0.824058</td>\n",
       "    </tr>\n",
       "    <tr>\n",
       "      <th>3</th>\n",
       "      <td>1.000000</td>\n",
       "      <td>0.390972</td>\n",
       "      <td>0.000000</td>\n",
       "    </tr>\n",
       "    <tr>\n",
       "      <th>65</th>\n",
       "      <td>0.000000</td>\n",
       "      <td>0.003581</td>\n",
       "      <td>0.941434</td>\n",
       "    </tr>\n",
       "    <tr>\n",
       "      <th>2</th>\n",
       "      <td>0.007136</td>\n",
       "      <td>0.328864</td>\n",
       "      <td>0.032564</td>\n",
       "    </tr>\n",
       "    <tr>\n",
       "      <th>48</th>\n",
       "      <td>0.007612</td>\n",
       "      <td>0.262415</td>\n",
       "      <td>0.618469</td>\n",
       "    </tr>\n",
       "    <tr>\n",
       "      <th>46</th>\n",
       "      <td>0.067555</td>\n",
       "      <td>0.215565</td>\n",
       "      <td>0.621385</td>\n",
       "    </tr>\n",
       "    <tr>\n",
       "      <th>51</th>\n",
       "      <td>0.002854</td>\n",
       "      <td>0.493295</td>\n",
       "      <td>0.749210</td>\n",
       "    </tr>\n",
       "    <tr>\n",
       "      <th>10</th>\n",
       "      <td>0.002141</td>\n",
       "      <td>0.225627</td>\n",
       "      <td>0.265371</td>\n",
       "    </tr>\n",
       "    <tr>\n",
       "      <th>42</th>\n",
       "      <td>0.003806</td>\n",
       "      <td>0.389173</td>\n",
       "      <td>0.632078</td>\n",
       "    </tr>\n",
       "    <tr>\n",
       "      <th>36</th>\n",
       "      <td>0.001427</td>\n",
       "      <td>0.095750</td>\n",
       "      <td>0.592467</td>\n",
       "    </tr>\n",
       "    <tr>\n",
       "      <th>50</th>\n",
       "      <td>0.047574</td>\n",
       "      <td>0.284957</td>\n",
       "      <td>0.679708</td>\n",
       "    </tr>\n",
       "    <tr>\n",
       "      <th>49</th>\n",
       "      <td>0.003330</td>\n",
       "      <td>0.294164</td>\n",
       "      <td>0.669988</td>\n",
       "    </tr>\n",
       "    <tr>\n",
       "      <th>63</th>\n",
       "      <td>0.000000</td>\n",
       "      <td>0.011703</td>\n",
       "      <td>1.000000</td>\n",
       "    </tr>\n",
       "    <tr>\n",
       "      <th>38</th>\n",
       "      <td>0.013321</td>\n",
       "      <td>0.050737</td>\n",
       "      <td>0.556501</td>\n",
       "    </tr>\n",
       "    <tr>\n",
       "      <th>34</th>\n",
       "      <td>0.008325</td>\n",
       "      <td>0.054982</td>\n",
       "      <td>0.570109</td>\n",
       "    </tr>\n",
       "    <tr>\n",
       "      <th>29</th>\n",
       "      <td>0.001427</td>\n",
       "      <td>0.152792</td>\n",
       "      <td>0.700608</td>\n",
       "    </tr>\n",
       "    <tr>\n",
       "      <th>43</th>\n",
       "      <td>0.000000</td>\n",
       "      <td>0.102264</td>\n",
       "      <td>0.700122</td>\n",
       "    </tr>\n",
       "    <tr>\n",
       "      <th>11</th>\n",
       "      <td>0.000714</td>\n",
       "      <td>0.121453</td>\n",
       "      <td>0.247631</td>\n",
       "    </tr>\n",
       "    <tr>\n",
       "      <th>24</th>\n",
       "      <td>0.001189</td>\n",
       "      <td>0.350444</td>\n",
       "      <td>0.649089</td>\n",
       "    </tr>\n",
       "    <tr>\n",
       "      <th>14</th>\n",
       "      <td>0.001427</td>\n",
       "      <td>0.196021</td>\n",
       "      <td>0.391009</td>\n",
       "    </tr>\n",
       "    <tr>\n",
       "      <th>28</th>\n",
       "      <td>0.009277</td>\n",
       "      <td>0.157285</td>\n",
       "      <td>0.631592</td>\n",
       "    </tr>\n",
       "    <tr>\n",
       "      <th>62</th>\n",
       "      <td>0.000000</td>\n",
       "      <td>0.109527</td>\n",
       "      <td>0.969137</td>\n",
       "    </tr>\n",
       "    <tr>\n",
       "      <th>8</th>\n",
       "      <td>0.000000</td>\n",
       "      <td>0.117148</td>\n",
       "      <td>0.203888</td>\n",
       "    </tr>\n",
       "    <tr>\n",
       "      <th>57</th>\n",
       "      <td>0.002617</td>\n",
       "      <td>0.067592</td>\n",
       "      <td>0.856136</td>\n",
       "    </tr>\n",
       "    <tr>\n",
       "      <th>40</th>\n",
       "      <td>0.004044</td>\n",
       "      <td>0.066200</td>\n",
       "      <td>0.493074</td>\n",
       "    </tr>\n",
       "    <tr>\n",
       "      <th>4</th>\n",
       "      <td>0.000000</td>\n",
       "      <td>0.235850</td>\n",
       "      <td>0.111786</td>\n",
       "    </tr>\n",
       "    <tr>\n",
       "      <th>52</th>\n",
       "      <td>0.008563</td>\n",
       "      <td>0.261917</td>\n",
       "      <td>0.728554</td>\n",
       "    </tr>\n",
       "    <tr>\n",
       "      <th>27</th>\n",
       "      <td>0.000000</td>\n",
       "      <td>0.113866</td>\n",
       "      <td>0.628190</td>\n",
       "    </tr>\n",
       "    <tr>\n",
       "      <th>7</th>\n",
       "      <td>0.000000</td>\n",
       "      <td>0.241234</td>\n",
       "      <td>0.205832</td>\n",
       "    </tr>\n",
       "    <tr>\n",
       "      <th>18</th>\n",
       "      <td>0.056375</td>\n",
       "      <td>0.173894</td>\n",
       "      <td>0.508141</td>\n",
       "    </tr>\n",
       "    <tr>\n",
       "      <th>30</th>\n",
       "      <td>0.020932</td>\n",
       "      <td>0.188145</td>\n",
       "      <td>0.684812</td>\n",
       "    </tr>\n",
       "    <tr>\n",
       "      <th>15</th>\n",
       "      <td>0.013796</td>\n",
       "      <td>0.190207</td>\n",
       "      <td>0.425516</td>\n",
       "    </tr>\n",
       "    <tr>\n",
       "      <th>19</th>\n",
       "      <td>0.002617</td>\n",
       "      <td>0.190895</td>\n",
       "      <td>0.436938</td>\n",
       "    </tr>\n",
       "    <tr>\n",
       "      <th>23</th>\n",
       "      <td>0.000000</td>\n",
       "      <td>0.227323</td>\n",
       "      <td>0.716403</td>\n",
       "    </tr>\n",
       "    <tr>\n",
       "      <th>53</th>\n",
       "      <td>0.032112</td>\n",
       "      <td>0.264632</td>\n",
       "      <td>0.786877</td>\n",
       "    </tr>\n",
       "    <tr>\n",
       "      <th>20</th>\n",
       "      <td>0.116556</td>\n",
       "      <td>0.298697</td>\n",
       "      <td>0.468287</td>\n",
       "    </tr>\n",
       "    <tr>\n",
       "      <th>37</th>\n",
       "      <td>0.000000</td>\n",
       "      <td>0.000000</td>\n",
       "      <td>0.527096</td>\n",
       "    </tr>\n",
       "    <tr>\n",
       "      <th>58</th>\n",
       "      <td>0.000951</td>\n",
       "      <td>0.009087</td>\n",
       "      <td>0.808262</td>\n",
       "    </tr>\n",
       "  </tbody>\n",
       "</table>\n",
       "</div>"
      ],
      "text/plain": [
       "    Sentiment_Score    Volume  Prev_Close\n",
       "31         0.027355  0.211866    0.736574\n",
       "59         0.003568  0.057674    0.792953\n",
       "66         0.018792  0.024858    0.963305\n",
       "61         0.003092  0.217187    0.907412\n",
       "55         0.052093  0.206875    0.797327\n",
       "45         0.002617  0.080790    0.676792\n",
       "64         0.011656  0.059558    0.986877\n",
       "60         0.004044  0.041178    0.868773\n",
       "12         0.055423  0.322106    0.249089\n",
       "9          0.000000  0.170522    0.236695\n",
       "6          0.045909  0.223671    0.138761\n",
       "16         0.000000  0.083273    0.409235\n",
       "13         0.002617  0.336158    0.312272\n",
       "33         0.004757  0.126818    0.669016\n",
       "56         0.009277  0.129830    0.824058\n",
       "3          1.000000  0.390972    0.000000\n",
       "65         0.000000  0.003581    0.941434\n",
       "2          0.007136  0.328864    0.032564\n",
       "48         0.007612  0.262415    0.618469\n",
       "46         0.067555  0.215565    0.621385\n",
       "51         0.002854  0.493295    0.749210\n",
       "10         0.002141  0.225627    0.265371\n",
       "42         0.003806  0.389173    0.632078\n",
       "36         0.001427  0.095750    0.592467\n",
       "50         0.047574  0.284957    0.679708\n",
       "49         0.003330  0.294164    0.669988\n",
       "63         0.000000  0.011703    1.000000\n",
       "38         0.013321  0.050737    0.556501\n",
       "34         0.008325  0.054982    0.570109\n",
       "29         0.001427  0.152792    0.700608\n",
       "43         0.000000  0.102264    0.700122\n",
       "11         0.000714  0.121453    0.247631\n",
       "24         0.001189  0.350444    0.649089\n",
       "14         0.001427  0.196021    0.391009\n",
       "28         0.009277  0.157285    0.631592\n",
       "62         0.000000  0.109527    0.969137\n",
       "8          0.000000  0.117148    0.203888\n",
       "57         0.002617  0.067592    0.856136\n",
       "40         0.004044  0.066200    0.493074\n",
       "4          0.000000  0.235850    0.111786\n",
       "52         0.008563  0.261917    0.728554\n",
       "27         0.000000  0.113866    0.628190\n",
       "7          0.000000  0.241234    0.205832\n",
       "18         0.056375  0.173894    0.508141\n",
       "30         0.020932  0.188145    0.684812\n",
       "15         0.013796  0.190207    0.425516\n",
       "19         0.002617  0.190895    0.436938\n",
       "23         0.000000  0.227323    0.716403\n",
       "53         0.032112  0.264632    0.786877\n",
       "20         0.116556  0.298697    0.468287\n",
       "37         0.000000  0.000000    0.527096\n",
       "58         0.000951  0.009087    0.808262"
      ]
     },
     "execution_count": 190,
     "metadata": {},
     "output_type": "execute_result"
    }
   ],
   "source": [
    "X_train"
   ]
  },
  {
   "cell_type": "code",
   "execution_count": 191,
   "id": "506d3762",
   "metadata": {},
   "outputs": [
    {
     "data": {
      "text/plain": [
       "31    0\n",
       "59    1\n",
       "66    0\n",
       "61    1\n",
       "55    1\n",
       "45    0\n",
       "64    0\n",
       "60    1\n",
       "12    1\n",
       "9     1\n",
       "6     1\n",
       "16    1\n",
       "13    1\n",
       "33    0\n",
       "56    1\n",
       "3     1\n",
       "65    1\n",
       "2     0\n",
       "48    1\n",
       "46    0\n",
       "51    0\n",
       "10    0\n",
       "42    1\n",
       "36    0\n",
       "50    1\n",
       "49    1\n",
       "63    0\n",
       "38    0\n",
       "34    1\n",
       "29    0\n",
       "43    0\n",
       "11    1\n",
       "24    1\n",
       "14    1\n",
       "28    1\n",
       "62    1\n",
       "8     1\n",
       "57    0\n",
       "40    1\n",
       "4     1\n",
       "52    1\n",
       "27    1\n",
       "7     0\n",
       "18    0\n",
       "30    1\n",
       "15    0\n",
       "19    1\n",
       "23    0\n",
       "53    1\n",
       "20    1\n",
       "37    1\n",
       "58    0\n",
       "Name: Stock_Price_Change, dtype: int64"
      ]
     },
     "execution_count": 191,
     "metadata": {},
     "output_type": "execute_result"
    }
   ],
   "source": [
    "y_train"
   ]
  },
  {
   "cell_type": "code",
   "execution_count": null,
   "id": "1a9febc7",
   "metadata": {},
   "outputs": [],
   "source": []
  },
  {
   "cell_type": "code",
   "execution_count": null,
   "id": "2807aee8",
   "metadata": {},
   "outputs": [],
   "source": []
  },
  {
   "cell_type": "code",
   "execution_count": 100,
   "id": "8ff229df",
   "metadata": {},
   "outputs": [
    {
     "name": "stdout",
     "output_type": "stream",
     "text": [
      "Class Distribution After SMOTE:\n",
      "0    32\n",
      "1    32\n",
      "Name: Stock_Price_Change, dtype: int64\n"
     ]
    }
   ],
   "source": [
    "smote = SMOTE(random_state=42)\n",
    "X_resampled, y_resampled = smote.fit_resample(X_train, y_train)\n",
    "\n",
    "print(\"Class Distribution After SMOTE:\")\n",
    "print(y_resampled.value_counts())\n"
   ]
  },
  {
   "cell_type": "code",
   "execution_count": 105,
   "id": "32b29203",
   "metadata": {},
   "outputs": [],
   "source": []
  },
  {
   "cell_type": "code",
   "execution_count": 178,
   "id": "318e1392",
   "metadata": {},
   "outputs": [
    {
     "data": {
      "text/html": [
       "<style>#sk-container-id-2 {\n",
       "  /* Definition of color scheme common for light and dark mode */\n",
       "  --sklearn-color-text: black;\n",
       "  --sklearn-color-line: gray;\n",
       "  /* Definition of color scheme for unfitted estimators */\n",
       "  --sklearn-color-unfitted-level-0: #fff5e6;\n",
       "  --sklearn-color-unfitted-level-1: #f6e4d2;\n",
       "  --sklearn-color-unfitted-level-2: #ffe0b3;\n",
       "  --sklearn-color-unfitted-level-3: chocolate;\n",
       "  /* Definition of color scheme for fitted estimators */\n",
       "  --sklearn-color-fitted-level-0: #f0f8ff;\n",
       "  --sklearn-color-fitted-level-1: #d4ebff;\n",
       "  --sklearn-color-fitted-level-2: #b3dbfd;\n",
       "  --sklearn-color-fitted-level-3: cornflowerblue;\n",
       "\n",
       "  /* Specific color for light theme */\n",
       "  --sklearn-color-text-on-default-background: var(--sg-text-color, var(--theme-code-foreground, var(--jp-content-font-color1, black)));\n",
       "  --sklearn-color-background: var(--sg-background-color, var(--theme-background, var(--jp-layout-color0, white)));\n",
       "  --sklearn-color-border-box: var(--sg-text-color, var(--theme-code-foreground, var(--jp-content-font-color1, black)));\n",
       "  --sklearn-color-icon: #696969;\n",
       "\n",
       "  @media (prefers-color-scheme: dark) {\n",
       "    /* Redefinition of color scheme for dark theme */\n",
       "    --sklearn-color-text-on-default-background: var(--sg-text-color, var(--theme-code-foreground, var(--jp-content-font-color1, white)));\n",
       "    --sklearn-color-background: var(--sg-background-color, var(--theme-background, var(--jp-layout-color0, #111)));\n",
       "    --sklearn-color-border-box: var(--sg-text-color, var(--theme-code-foreground, var(--jp-content-font-color1, white)));\n",
       "    --sklearn-color-icon: #878787;\n",
       "  }\n",
       "}\n",
       "\n",
       "#sk-container-id-2 {\n",
       "  color: var(--sklearn-color-text);\n",
       "}\n",
       "\n",
       "#sk-container-id-2 pre {\n",
       "  padding: 0;\n",
       "}\n",
       "\n",
       "#sk-container-id-2 input.sk-hidden--visually {\n",
       "  border: 0;\n",
       "  clip: rect(1px 1px 1px 1px);\n",
       "  clip: rect(1px, 1px, 1px, 1px);\n",
       "  height: 1px;\n",
       "  margin: -1px;\n",
       "  overflow: hidden;\n",
       "  padding: 0;\n",
       "  position: absolute;\n",
       "  width: 1px;\n",
       "}\n",
       "\n",
       "#sk-container-id-2 div.sk-dashed-wrapped {\n",
       "  border: 1px dashed var(--sklearn-color-line);\n",
       "  margin: 0 0.4em 0.5em 0.4em;\n",
       "  box-sizing: border-box;\n",
       "  padding-bottom: 0.4em;\n",
       "  background-color: var(--sklearn-color-background);\n",
       "}\n",
       "\n",
       "#sk-container-id-2 div.sk-container {\n",
       "  /* jupyter's `normalize.less` sets `[hidden] { display: none; }`\n",
       "     but bootstrap.min.css set `[hidden] { display: none !important; }`\n",
       "     so we also need the `!important` here to be able to override the\n",
       "     default hidden behavior on the sphinx rendered scikit-learn.org.\n",
       "     See: https://github.com/scikit-learn/scikit-learn/issues/21755 */\n",
       "  display: inline-block !important;\n",
       "  position: relative;\n",
       "}\n",
       "\n",
       "#sk-container-id-2 div.sk-text-repr-fallback {\n",
       "  display: none;\n",
       "}\n",
       "\n",
       "div.sk-parallel-item,\n",
       "div.sk-serial,\n",
       "div.sk-item {\n",
       "  /* draw centered vertical line to link estimators */\n",
       "  background-image: linear-gradient(var(--sklearn-color-text-on-default-background), var(--sklearn-color-text-on-default-background));\n",
       "  background-size: 2px 100%;\n",
       "  background-repeat: no-repeat;\n",
       "  background-position: center center;\n",
       "}\n",
       "\n",
       "/* Parallel-specific style estimator block */\n",
       "\n",
       "#sk-container-id-2 div.sk-parallel-item::after {\n",
       "  content: \"\";\n",
       "  width: 100%;\n",
       "  border-bottom: 2px solid var(--sklearn-color-text-on-default-background);\n",
       "  flex-grow: 1;\n",
       "}\n",
       "\n",
       "#sk-container-id-2 div.sk-parallel {\n",
       "  display: flex;\n",
       "  align-items: stretch;\n",
       "  justify-content: center;\n",
       "  background-color: var(--sklearn-color-background);\n",
       "  position: relative;\n",
       "}\n",
       "\n",
       "#sk-container-id-2 div.sk-parallel-item {\n",
       "  display: flex;\n",
       "  flex-direction: column;\n",
       "}\n",
       "\n",
       "#sk-container-id-2 div.sk-parallel-item:first-child::after {\n",
       "  align-self: flex-end;\n",
       "  width: 50%;\n",
       "}\n",
       "\n",
       "#sk-container-id-2 div.sk-parallel-item:last-child::after {\n",
       "  align-self: flex-start;\n",
       "  width: 50%;\n",
       "}\n",
       "\n",
       "#sk-container-id-2 div.sk-parallel-item:only-child::after {\n",
       "  width: 0;\n",
       "}\n",
       "\n",
       "/* Serial-specific style estimator block */\n",
       "\n",
       "#sk-container-id-2 div.sk-serial {\n",
       "  display: flex;\n",
       "  flex-direction: column;\n",
       "  align-items: center;\n",
       "  background-color: var(--sklearn-color-background);\n",
       "  padding-right: 1em;\n",
       "  padding-left: 1em;\n",
       "}\n",
       "\n",
       "\n",
       "/* Toggleable style: style used for estimator/Pipeline/ColumnTransformer box that is\n",
       "clickable and can be expanded/collapsed.\n",
       "- Pipeline and ColumnTransformer use this feature and define the default style\n",
       "- Estimators will overwrite some part of the style using the `sk-estimator` class\n",
       "*/\n",
       "\n",
       "/* Pipeline and ColumnTransformer style (default) */\n",
       "\n",
       "#sk-container-id-2 div.sk-toggleable {\n",
       "  /* Default theme specific background. It is overwritten whether we have a\n",
       "  specific estimator or a Pipeline/ColumnTransformer */\n",
       "  background-color: var(--sklearn-color-background);\n",
       "}\n",
       "\n",
       "/* Toggleable label */\n",
       "#sk-container-id-2 label.sk-toggleable__label {\n",
       "  cursor: pointer;\n",
       "  display: block;\n",
       "  width: 100%;\n",
       "  margin-bottom: 0;\n",
       "  padding: 0.5em;\n",
       "  box-sizing: border-box;\n",
       "  text-align: center;\n",
       "}\n",
       "\n",
       "#sk-container-id-2 label.sk-toggleable__label-arrow:before {\n",
       "  /* Arrow on the left of the label */\n",
       "  content: \"▸\";\n",
       "  float: left;\n",
       "  margin-right: 0.25em;\n",
       "  color: var(--sklearn-color-icon);\n",
       "}\n",
       "\n",
       "#sk-container-id-2 label.sk-toggleable__label-arrow:hover:before {\n",
       "  color: var(--sklearn-color-text);\n",
       "}\n",
       "\n",
       "/* Toggleable content - dropdown */\n",
       "\n",
       "#sk-container-id-2 div.sk-toggleable__content {\n",
       "  max-height: 0;\n",
       "  max-width: 0;\n",
       "  overflow: hidden;\n",
       "  text-align: left;\n",
       "  /* unfitted */\n",
       "  background-color: var(--sklearn-color-unfitted-level-0);\n",
       "}\n",
       "\n",
       "#sk-container-id-2 div.sk-toggleable__content.fitted {\n",
       "  /* fitted */\n",
       "  background-color: var(--sklearn-color-fitted-level-0);\n",
       "}\n",
       "\n",
       "#sk-container-id-2 div.sk-toggleable__content pre {\n",
       "  margin: 0.2em;\n",
       "  border-radius: 0.25em;\n",
       "  color: var(--sklearn-color-text);\n",
       "  /* unfitted */\n",
       "  background-color: var(--sklearn-color-unfitted-level-0);\n",
       "}\n",
       "\n",
       "#sk-container-id-2 div.sk-toggleable__content.fitted pre {\n",
       "  /* unfitted */\n",
       "  background-color: var(--sklearn-color-fitted-level-0);\n",
       "}\n",
       "\n",
       "#sk-container-id-2 input.sk-toggleable__control:checked~div.sk-toggleable__content {\n",
       "  /* Expand drop-down */\n",
       "  max-height: 200px;\n",
       "  max-width: 100%;\n",
       "  overflow: auto;\n",
       "}\n",
       "\n",
       "#sk-container-id-2 input.sk-toggleable__control:checked~label.sk-toggleable__label-arrow:before {\n",
       "  content: \"▾\";\n",
       "}\n",
       "\n",
       "/* Pipeline/ColumnTransformer-specific style */\n",
       "\n",
       "#sk-container-id-2 div.sk-label input.sk-toggleable__control:checked~label.sk-toggleable__label {\n",
       "  color: var(--sklearn-color-text);\n",
       "  background-color: var(--sklearn-color-unfitted-level-2);\n",
       "}\n",
       "\n",
       "#sk-container-id-2 div.sk-label.fitted input.sk-toggleable__control:checked~label.sk-toggleable__label {\n",
       "  background-color: var(--sklearn-color-fitted-level-2);\n",
       "}\n",
       "\n",
       "/* Estimator-specific style */\n",
       "\n",
       "/* Colorize estimator box */\n",
       "#sk-container-id-2 div.sk-estimator input.sk-toggleable__control:checked~label.sk-toggleable__label {\n",
       "  /* unfitted */\n",
       "  background-color: var(--sklearn-color-unfitted-level-2);\n",
       "}\n",
       "\n",
       "#sk-container-id-2 div.sk-estimator.fitted input.sk-toggleable__control:checked~label.sk-toggleable__label {\n",
       "  /* fitted */\n",
       "  background-color: var(--sklearn-color-fitted-level-2);\n",
       "}\n",
       "\n",
       "#sk-container-id-2 div.sk-label label.sk-toggleable__label,\n",
       "#sk-container-id-2 div.sk-label label {\n",
       "  /* The background is the default theme color */\n",
       "  color: var(--sklearn-color-text-on-default-background);\n",
       "}\n",
       "\n",
       "/* On hover, darken the color of the background */\n",
       "#sk-container-id-2 div.sk-label:hover label.sk-toggleable__label {\n",
       "  color: var(--sklearn-color-text);\n",
       "  background-color: var(--sklearn-color-unfitted-level-2);\n",
       "}\n",
       "\n",
       "/* Label box, darken color on hover, fitted */\n",
       "#sk-container-id-2 div.sk-label.fitted:hover label.sk-toggleable__label.fitted {\n",
       "  color: var(--sklearn-color-text);\n",
       "  background-color: var(--sklearn-color-fitted-level-2);\n",
       "}\n",
       "\n",
       "/* Estimator label */\n",
       "\n",
       "#sk-container-id-2 div.sk-label label {\n",
       "  font-family: monospace;\n",
       "  font-weight: bold;\n",
       "  display: inline-block;\n",
       "  line-height: 1.2em;\n",
       "}\n",
       "\n",
       "#sk-container-id-2 div.sk-label-container {\n",
       "  text-align: center;\n",
       "}\n",
       "\n",
       "/* Estimator-specific */\n",
       "#sk-container-id-2 div.sk-estimator {\n",
       "  font-family: monospace;\n",
       "  border: 1px dotted var(--sklearn-color-border-box);\n",
       "  border-radius: 0.25em;\n",
       "  box-sizing: border-box;\n",
       "  margin-bottom: 0.5em;\n",
       "  /* unfitted */\n",
       "  background-color: var(--sklearn-color-unfitted-level-0);\n",
       "}\n",
       "\n",
       "#sk-container-id-2 div.sk-estimator.fitted {\n",
       "  /* fitted */\n",
       "  background-color: var(--sklearn-color-fitted-level-0);\n",
       "}\n",
       "\n",
       "/* on hover */\n",
       "#sk-container-id-2 div.sk-estimator:hover {\n",
       "  /* unfitted */\n",
       "  background-color: var(--sklearn-color-unfitted-level-2);\n",
       "}\n",
       "\n",
       "#sk-container-id-2 div.sk-estimator.fitted:hover {\n",
       "  /* fitted */\n",
       "  background-color: var(--sklearn-color-fitted-level-2);\n",
       "}\n",
       "\n",
       "/* Specification for estimator info (e.g. \"i\" and \"?\") */\n",
       "\n",
       "/* Common style for \"i\" and \"?\" */\n",
       "\n",
       ".sk-estimator-doc-link,\n",
       "a:link.sk-estimator-doc-link,\n",
       "a:visited.sk-estimator-doc-link {\n",
       "  float: right;\n",
       "  font-size: smaller;\n",
       "  line-height: 1em;\n",
       "  font-family: monospace;\n",
       "  background-color: var(--sklearn-color-background);\n",
       "  border-radius: 1em;\n",
       "  height: 1em;\n",
       "  width: 1em;\n",
       "  text-decoration: none !important;\n",
       "  margin-left: 1ex;\n",
       "  /* unfitted */\n",
       "  border: var(--sklearn-color-unfitted-level-1) 1pt solid;\n",
       "  color: var(--sklearn-color-unfitted-level-1);\n",
       "}\n",
       "\n",
       ".sk-estimator-doc-link.fitted,\n",
       "a:link.sk-estimator-doc-link.fitted,\n",
       "a:visited.sk-estimator-doc-link.fitted {\n",
       "  /* fitted */\n",
       "  border: var(--sklearn-color-fitted-level-1) 1pt solid;\n",
       "  color: var(--sklearn-color-fitted-level-1);\n",
       "}\n",
       "\n",
       "/* On hover */\n",
       "div.sk-estimator:hover .sk-estimator-doc-link:hover,\n",
       ".sk-estimator-doc-link:hover,\n",
       "div.sk-label-container:hover .sk-estimator-doc-link:hover,\n",
       ".sk-estimator-doc-link:hover {\n",
       "  /* unfitted */\n",
       "  background-color: var(--sklearn-color-unfitted-level-3);\n",
       "  color: var(--sklearn-color-background);\n",
       "  text-decoration: none;\n",
       "}\n",
       "\n",
       "div.sk-estimator.fitted:hover .sk-estimator-doc-link.fitted:hover,\n",
       ".sk-estimator-doc-link.fitted:hover,\n",
       "div.sk-label-container:hover .sk-estimator-doc-link.fitted:hover,\n",
       ".sk-estimator-doc-link.fitted:hover {\n",
       "  /* fitted */\n",
       "  background-color: var(--sklearn-color-fitted-level-3);\n",
       "  color: var(--sklearn-color-background);\n",
       "  text-decoration: none;\n",
       "}\n",
       "\n",
       "/* Span, style for the box shown on hovering the info icon */\n",
       ".sk-estimator-doc-link span {\n",
       "  display: none;\n",
       "  z-index: 9999;\n",
       "  position: relative;\n",
       "  font-weight: normal;\n",
       "  right: .2ex;\n",
       "  padding: .5ex;\n",
       "  margin: .5ex;\n",
       "  width: min-content;\n",
       "  min-width: 20ex;\n",
       "  max-width: 50ex;\n",
       "  color: var(--sklearn-color-text);\n",
       "  box-shadow: 2pt 2pt 4pt #999;\n",
       "  /* unfitted */\n",
       "  background: var(--sklearn-color-unfitted-level-0);\n",
       "  border: .5pt solid var(--sklearn-color-unfitted-level-3);\n",
       "}\n",
       "\n",
       ".sk-estimator-doc-link.fitted span {\n",
       "  /* fitted */\n",
       "  background: var(--sklearn-color-fitted-level-0);\n",
       "  border: var(--sklearn-color-fitted-level-3);\n",
       "}\n",
       "\n",
       ".sk-estimator-doc-link:hover span {\n",
       "  display: block;\n",
       "}\n",
       "\n",
       "/* \"?\"-specific style due to the `<a>` HTML tag */\n",
       "\n",
       "#sk-container-id-2 a.estimator_doc_link {\n",
       "  float: right;\n",
       "  font-size: 1rem;\n",
       "  line-height: 1em;\n",
       "  font-family: monospace;\n",
       "  background-color: var(--sklearn-color-background);\n",
       "  border-radius: 1rem;\n",
       "  height: 1rem;\n",
       "  width: 1rem;\n",
       "  text-decoration: none;\n",
       "  /* unfitted */\n",
       "  color: var(--sklearn-color-unfitted-level-1);\n",
       "  border: var(--sklearn-color-unfitted-level-1) 1pt solid;\n",
       "}\n",
       "\n",
       "#sk-container-id-2 a.estimator_doc_link.fitted {\n",
       "  /* fitted */\n",
       "  border: var(--sklearn-color-fitted-level-1) 1pt solid;\n",
       "  color: var(--sklearn-color-fitted-level-1);\n",
       "}\n",
       "\n",
       "/* On hover */\n",
       "#sk-container-id-2 a.estimator_doc_link:hover {\n",
       "  /* unfitted */\n",
       "  background-color: var(--sklearn-color-unfitted-level-3);\n",
       "  color: var(--sklearn-color-background);\n",
       "  text-decoration: none;\n",
       "}\n",
       "\n",
       "#sk-container-id-2 a.estimator_doc_link.fitted:hover {\n",
       "  /* fitted */\n",
       "  background-color: var(--sklearn-color-fitted-level-3);\n",
       "}\n",
       "</style><div id=\"sk-container-id-2\" class=\"sk-top-container\"><div class=\"sk-text-repr-fallback\"><pre>LogisticRegression(random_state=42)</pre><b>In a Jupyter environment, please rerun this cell to show the HTML representation or trust the notebook. <br />On GitHub, the HTML representation is unable to render, please try loading this page with nbviewer.org.</b></div><div class=\"sk-container\" hidden><div class=\"sk-item\"><div class=\"sk-estimator fitted sk-toggleable\"><input class=\"sk-toggleable__control sk-hidden--visually\" id=\"sk-estimator-id-2\" type=\"checkbox\" checked><label for=\"sk-estimator-id-2\" class=\"sk-toggleable__label fitted sk-toggleable__label-arrow fitted\">&nbsp;&nbsp;LogisticRegression<a class=\"sk-estimator-doc-link fitted\" rel=\"noreferrer\" target=\"_blank\" href=\"https://scikit-learn.org/1.5/modules/generated/sklearn.linear_model.LogisticRegression.html\">?<span>Documentation for LogisticRegression</span></a><span class=\"sk-estimator-doc-link fitted\">i<span>Fitted</span></span></label><div class=\"sk-toggleable__content fitted\"><pre>LogisticRegression(random_state=42)</pre></div> </div></div></div></div>"
      ],
      "text/plain": [
       "LogisticRegression(random_state=42)"
      ]
     },
     "execution_count": 178,
     "metadata": {},
     "output_type": "execute_result"
    }
   ],
   "source": [
    "model = LogisticRegression(random_state=42)\n",
    "model.fit(X_resampled, y_resampled)\n"
   ]
  },
  {
   "cell_type": "code",
   "execution_count": 179,
   "id": "edf497b1",
   "metadata": {},
   "outputs": [],
   "source": [
    "y_pred = model.predict(X_test)"
   ]
  },
  {
   "cell_type": "code",
   "execution_count": 183,
   "id": "bffcc95a",
   "metadata": {},
   "outputs": [
    {
     "name": "stdout",
     "output_type": "stream",
     "text": [
      "Accuracy is : 0.8461538461538461\n",
      " \n",
      "              precision    recall  f1-score   support\n",
      "\n",
      "           0       0.71      1.00      0.83         5\n",
      "           1       1.00      0.75      0.86         8\n",
      "\n",
      "    accuracy                           0.85        13\n",
      "   macro avg       0.86      0.88      0.85        13\n",
      "weighted avg       0.89      0.85      0.85        13\n",
      "\n"
     ]
    }
   ],
   "source": [
    "print(\"Accuracy is :\", accuracy_score(y_test, y_pred))\n",
    "print(\" \")\n",
    "print( classification_report(y_test, y_pred))\n"
   ]
  },
  {
   "cell_type": "code",
   "execution_count": 184,
   "id": "ca231735",
   "metadata": {},
   "outputs": [
    {
     "name": "stdout",
     "output_type": "stream",
     "text": [
      "Confusion Matrix:\n",
      " [[5 0]\n",
      " [2 6]]\n"
     ]
    }
   ],
   "source": [
    "print(\"Confusion Matrix:\\n\", confusion_matrix(y_test, y_pred))"
   ]
  },
  {
   "cell_type": "code",
   "execution_count": null,
   "id": "bfd35259",
   "metadata": {},
   "outputs": [],
   "source": []
  },
  {
   "cell_type": "code",
   "execution_count": 185,
   "id": "56096875",
   "metadata": {},
   "outputs": [
    {
     "name": "stdout",
     "output_type": "stream",
     "text": [
      "Best Parameters: {'C': 10, 'solver': 'liblinear'}\n"
     ]
    }
   ],
   "source": [
    "param_grid = {'C': [0.1, 1, 10], 'solver': ['liblinear', 'lbfgs']}\n",
    "grid = GridSearchCV(LogisticRegression(random_state=42), param_grid, cv=5)\n",
    "grid.fit(X_resampled, y_resampled)\n",
    "\n",
    "print(\"Best Parameters:\", grid.best_params_)\n"
   ]
  },
  {
   "cell_type": "code",
   "execution_count": null,
   "id": "1039c234",
   "metadata": {},
   "outputs": [],
   "source": []
  },
  {
   "cell_type": "code",
   "execution_count": 186,
   "id": "8db820c2",
   "metadata": {},
   "outputs": [
    {
     "data": {
      "image/png": "[encoded data removed]",
      "text/plain": [
       "<Figure size 640x480 with 2 Axes>"
      ]
     },
     "metadata": {},
     "output_type": "display_data"
    }
   ],
   "source": [
    "ConfusionMatrixDisplay.from_estimator(model, X_test, y_test)\n",
    "plt.show()\n"
   ]
  },
  {
   "cell_type": "markdown",
   "id": "3a2bbfcf",
   "metadata": {},
   "source": [
    "# Saving the Model"
   ]
  },
  {
   "cell_type": "code",
   "execution_count": 187,
   "id": "7fe0834b",
   "metadata": {},
   "outputs": [
    {
     "data": {
      "text/plain": [
       "['logistic_regression_model.pkl']"
      ]
     },
     "execution_count": 187,
     "metadata": {},
     "output_type": "execute_result"
    }
   ],
   "source": [
    "import joblib\n",
    "\n",
    "joblib.dump(model, \"logistic_regression_model.pkl\")\n"
   ]
  },
  {
   "cell_type": "code",
   "execution_count": null,
   "id": "9d78814f",
   "metadata": {},
   "outputs": [],
   "source": [
    "# 12 0.055423\t0.322106\t0.249089 output: 1"
   ]
  },
  {
   "cell_type": "code",
   "execution_count": 188,
   "id": "528548cd",
   "metadata": {},
   "outputs": [],
   "source": [
    "# Sample Model Prediction"
   ]
  },
  {
   "cell_type": "code",
   "execution_count": 193,
   "id": "7a26821d",
   "metadata": {},
   "outputs": [
    {
     "name": "stdout",
     "output_type": "stream",
     "text": [
      "Prediction: [1]\n"
     ]
    },
    {
     "name": "stderr",
     "output_type": "stream",
     "text": [
      "C:\\Users\\shwet\\AppData\\Local\\Programs\\Python\\Python310\\lib\\site-packages\\sklearn\\base.py:493: UserWarning: X does not have valid feature names, but LogisticRegression was fitted with feature names\n",
      "  warnings.warn(\n"
     ]
    }
   ],
   "source": [
    "\n",
    "new_data = [[0.055423, 0.322106, 0.249089]] \n",
    "prediction = model.predict(new_data)\n",
    "print(\"Prediction:\", prediction)\n"
   ]
  },
  {
   "cell_type": "code",
   "execution_count": null,
   "id": "e51f8900",
   "metadata": {},
   "outputs": [],
   "source": []
  },
  {
   "cell_type": "code",
   "execution_count": null,
   "id": "d3f89402",
   "metadata": {},
   "outputs": [],
   "source": []
  },
  {
   "cell_type": "code",
   "execution_count": null,
   "id": "6b4913ea",
   "metadata": {},
   "outputs": [],
   "source": []
  },
  {
   "cell_type": "code",
   "execution_count": null,
   "id": "4aee865e",
   "metadata": {},
   "outputs": [],
   "source": []
  },
  {
   "cell_type": "code",
   "execution_count": null,
   "id": "9b28202b",
   "metadata": {},
   "outputs": [],
   "source": []
  },
  {
   "cell_type": "code",
   "execution_count": null,
   "id": "0cb694a9",
   "metadata": {},
   "outputs": [],
   "source": []
  },
  {
   "cell_type": "code",
   "execution_count": null,
   "id": "e842df3a",
   "metadata": {},
   "outputs": [],
   "source": []
  },
  {
   "cell_type": "code",
   "execution_count": null,
   "id": "448d1f95",
   "metadata": {},
   "outputs": [],
   "source": []
  },
  {
   "cell_type": "code",
   "execution_count": null,
   "id": "ddd164e5",
   "metadata": {},
   "outputs": [],
   "source": []
  },
  {
   "cell_type": "code",
   "execution_count": null,
   "id": "f8d9138a",
   "metadata": {},
   "outputs": [],
   "source": []
  },
  {
   "cell_type": "code",
   "execution_count": null,
   "id": "a1aeaf0b",
   "metadata": {},
   "outputs": [],
   "source": []
  },
  {
   "cell_type": "code",
   "execution_count": null,
   "id": "1de11e43",
   "metadata": {},
   "outputs": [],
   "source": []
  },
  {
   "cell_type": "code",
   "execution_count": null,
   "id": "e0914044",
   "metadata": {},
   "outputs": [],
   "source": []
  },
  {
   "cell_type": "code",
   "execution_count": null,
   "id": "6feb53bb",
   "metadata": {},
   "outputs": [],
   "source": []
  },
  {
   "cell_type": "code",
   "execution_count": null,
   "id": "e04ade47",
   "metadata": {},
   "outputs": [],
   "source": []
  }
 ],
 "metadata": {
  "kernelspec": {
   "display_name": "Python 3 (ipykernel)",
   "language": "python",
   "name": "python3"
  },
  "language_info": {
   "codemirror_mode": {
    "name": "ipython",
    "version": 3
   },
   "file_extension": ".py",
   "mimetype": "text/x-python",
   "name": "python",
   "nbconvert_exporter": "python",
   "pygments_lexer": "ipython3",
   "version": "3.10.6"
  }
 },
 "nbformat": 4,
 "nbformat_minor": 5
}
